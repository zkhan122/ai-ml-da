{
  "cells": [
    {
      "cell_type": "markdown",
      "metadata": {
        "id": "E9GCGMtwyohS"
      },
      "source": [
        "# Week 7: Convolutional Neural Networks (CNN)\n",
        "\n",
        "In this lab, we will cover the convolutional and pooling layers to create CNNs. <br>\n",
        "We also build a model to classify digit images using the MNIST dataset."
      ]
    },
    {
      "cell_type": "markdown",
      "metadata": {
        "id": "mRp_qWdxyohW"
      },
      "source": [
        "## Basic Imports\n",
        "\n",
        "For this lab session, we will use Numpy and PyTorch.<br>\n",
        "Please visit the [PyTorch Tutorial](https://pytorch.org/tutorials/) page if you want to learn it systematically.<br>\n",
        "Numpy will be mainly used for dataset preprocessing.\n",
        "\n",
        "### Use GPU for network training\n",
        "\n",
        "The use of a GPU card will accelerate the network training. To this end, you need to change your runtime type. You should click the \"Runtime\" menu at the top and then the \"Change runtime type\". Then you can select the “T4 GPU” and Save. <br>\n",
        "You should be able to print `cuda` using the code below if you have set your runtime correctly."
      ]
    },
    {
      "cell_type": "code",
      "execution_count": 2,
      "metadata": {
        "id": "5P4TN6uLyohX"
      },
      "outputs": [
        {
          "name": "stdout",
          "output_type": "stream",
          "text": [
            "cuda\n"
          ]
        }
      ],
      "source": [
        "# import numpy and torch\n",
        "import numpy as np\n",
        "\n",
        "\n",
        "import torch\n",
        "import torch.nn.functional as F\n",
        "from torch import nn\n",
        "from torch.utils.data import DataLoader\n",
        "from torchvision import datasets, transforms\n",
        "import torch.optim as optim\n",
        "from tqdm import tqdm\n",
        "\n",
        "device = torch.device(\"cuda\" if torch.cuda.is_available() else \"cpu\")\n",
        "print(device)"
      ]
    },
    {
      "cell_type": "markdown",
      "metadata": {
        "id": "VE6znDdhyohj"
      },
      "source": [
        "## Low Level Code\n",
        "\n",
        "While building a CNN model, we will add whole convolution layer in a neat package [Conv2d()](https://pytorch.org/docs/stable/generated/torch.nn.Conv2d.html). <br>\n",
        "But before we do so, it is good to understand the __underlaying mechanics__ and __code implementation__ of convolutions. <br>\n",
        "In the following example, we will define our image/data `inputs`, and use `kernels` to apply 2D convolution. <br>\n",
        "\n",
        "\n",
        "For PyTorch, a convolution input must have the shape of `(BatchSize, inputChannels, height, width)` <br>\n",
        "A convolution filter/kernel must have shape of `(outputChannels, inputChannels, height, width)` <br>"
      ]
    },
    {
      "cell_type": "markdown",
      "metadata": {
        "id": "tMy6HP4Wyohi"
      },
      "source": [
        "# Convolutions\n",
        "\n",
        "Convolutional Neural Networks (CNNs) are designed to learn features directly from image pixels. They can classify patterns or objects with extreme variability. Currently, they form the core of various __computer vision systems__ such as Facebook's automated photo tagging, handwritten characters recognition, self-driving cars, marine mammal detection, and medical image analysis. In this lab, we will start by exploring a convolution function which forms the heart of CNNs.\n",
        "\n",
        "![image.png](https://global.discourse-cdn.com/business5/uploads/pynq1/original/2X/9/984a55715f7e36bdf068ee82d23a204d398f8561.jpeg)\n",
        "\n",
        "### Task\n",
        "1) Experiment with different strides, kernel, padding etc. <br>\n",
        "2) Why the shape of the output is 3 x 2? <br>\n",
        "3) Why does first ouput element equal to 21.0?\n"
      ]
    },
    {
      "cell_type": "code",
      "execution_count": 3,
      "metadata": {
        "id": "FJk4e3TyTQrX"
      },
      "outputs": [
        {
          "name": "stdout",
          "output_type": "stream",
          "text": [
            "Shape of an Input: torch.Size([1, 1, 5, 5])\n",
            "Shape of a Kernel torch.Size([1, 1, 3, 3])\n",
            "Shape of result: torch.Size([1, 1, 3, 2])\n",
            "Result:\n",
            " [[[[21. 27.]\n",
            "   [36. 42.]\n",
            "   [51. 57.]]]]\n"
          ]
        }
      ],
      "source": [
        "# Use torch to create proper tensors\n",
        "inputs = torch.tensor([[1.0,  2.0, 3.0,  4.0, 5.0],\n",
        "             [6.0,  7.0, 8.0,  9.0, 10.0],\n",
        "             [11.0, 12.0, 13.0, 14.0, 15.0],\n",
        "             [16.0, 17.0, 18.0, 19.0, 20.0],\n",
        "             [21.0, 22.0, 23.0, 24.0, 25.0]])\n",
        "\n",
        "kernel = torch.tensor([[1.0, 0.0, 0.0],\n",
        "             [0.0, 1.0, 0.0],\n",
        "             [0.0, 0.0, 1.0]])\n",
        "\n",
        "# Reshape inputs and kernel to the required shape\n",
        "inputs = inputs.view(1, 1, 5, 5)\n",
        "print(\"Shape of an Input:\", inputs.shape)\n",
        "\n",
        "kernel = kernel.view(1, 1, 3, 3)\n",
        "print(\"Shape of a Kernel\", kernel.shape)\n",
        "\n",
        "stride = (1, 2)\n",
        "padding = (0, 0)\n",
        "# also try this\n",
        "# padding = 'valid'\n",
        "\n",
        "# Apply a 2D convolution over input to get result\n",
        "result = torch.nn.functional.conv2d(inputs, kernel, stride=stride, padding=padding)\n",
        "print(\"Shape of result:\", result.shape)\n",
        "\n",
        "print(\"Result:\\n\", result.numpy())"
      ]
    },
    {
      "cell_type": "markdown",
      "metadata": {
        "id": "12ATZEXIyoho"
      },
      "source": [
        "# Pooling\n",
        "\n",
        "## MaxPooling\n",
        "\n",
        "Another important concept of CNNs is max-pooling, which is a form of\n",
        "non-linear down-sampling. Max-pooling partitions the input image into a\n",
        "set of non-overlapping rectangles and, for each such sub-region, outputs\n",
        "the maximum value.\n",
        "Max-pooling is useful in vision for two reasons:\n",
        "- By eliminating non-maximal values, it reduces computation for upper layers.\n",
        "- It provides a form of translation invariance.\n",
        "\n",
        "\n",
        "## AveragePooling\n",
        "Alternative to MaxPooling is Average pooling, where you take sum of all elements in pool and divide by number of elements.\n",
        "\n",
        "Experiment with different strides, kernel, padding etc. <br>\n"
      ]
    },
    {
      "cell_type": "code",
      "execution_count": 4,
      "metadata": {
        "id": "520X_-ziyoho"
      },
      "outputs": [
        {
          "name": "stdout",
          "output_type": "stream",
          "text": [
            "Input shape: torch.Size([1, 1, 5, 5])\n",
            "Output shape: torch.Size([1, 1, 4, 4])\n",
            "Result:\n",
            " [[[[ 7.  8.  9. 10.]\n",
            "   [12. 13. 14. 15.]\n",
            "   [17. 18. 19. 20.]\n",
            "   [22. 23. 24. 25.]]]]\n"
          ]
        }
      ],
      "source": [
        "inputs = torch.tensor([[1.0,  2.0, 3.0,  4.0, 5.0],\n",
        "             [6.0,  7.0, 8.0,  9.0, 10.0],\n",
        "             [11.0, 12.0, 13.0, 14.0, 15.0],\n",
        "             [16.0, 17.0, 18.0, 19.0, 20.0],\n",
        "             [21.0, 22.0, 23.0, 24.0, 25.0]])\n",
        "\n",
        "inputs = inputs.view(1, 1, 5, 5)\n",
        "print(\"Input shape:\", inputs.shape)\n",
        "\n",
        "pool_size = (2, 2)\n",
        "stride = (1, 1)\n",
        "padding = (0, 0)\n",
        "\n",
        "#Apply Maxpooling\n",
        "#Try other pooling e.g. avg_pool2d https://pytorch.org/docs/stable/nn.functional.html#pooling-functions\n",
        "result = torch.nn.functional.max_pool2d(inputs, kernel_size=pool_size, stride=stride, padding=padding)\n",
        "\n",
        "print(\"Output shape:\", result.shape)\n",
        "print(\"Result:\\n\", result.numpy())\n"
      ]
    },
    {
      "cell_type": "markdown",
      "metadata": {
        "id": "0PZ0c4OppRLv"
      },
      "source": [
        "# Stride and Padding\n",
        "- You might have noticed the padding and stride, but do you know what the stride and padding exactly are?\n",
        "- Check this page for some visualisations https://ezyang.github.io/convolution-visualizer/"
      ]
    },
    {
      "cell_type": "markdown",
      "metadata": {
        "id": "Mohrx8gns73e"
      },
      "source": [
        "## <font color='red'>Task 1</font>\n",
        "We have a input of (1x1x4x4)\n",
        "- Can you make a Conv2D that give the output that is the same size as the input?\n",
        "- Can you make the output a half smaller than the original output? `(1x1x2x2)`\n",
        "- You can verify by printing out the results"
      ]
    },
    {
      "cell_type": "code",
      "execution_count": 5,
      "metadata": {
        "id": "Cf7qUPM0s3zk"
      },
      "outputs": [
        {
          "name": "stdout",
          "output_type": "stream",
          "text": [
            "Shape of an Input: torch.Size([1, 1, 4, 4])\n",
            "Shape of result:  torch.Size([1, 1, 4, 4])\n",
            "Shape of result:  torch.Size([1, 1, 2, 2])\n"
          ]
        }
      ],
      "source": [
        "inputs = torch.tensor([[1.0,  2.0, 3.0,  4.0],\n",
        "             [5.0,  6.0, 7.0,  8.0],\n",
        "             [9.0, 10.0, 11.0, 12.0],\n",
        "             [13.0, 14.0, 15.0, 16.0]])\n",
        "\n",
        "inputs = inputs.view(1, 1, 4, 4)\n",
        "print(\"Shape of an Input:\", inputs.shape)\n",
        "\n",
        "# Your code here (make the same size)\n",
        "# Make sure your output's shape is the same as the input 1x1x4x4\n",
        "\n",
        "kernel = torch.tensor([[1.0, 0.0, 0.0],\n",
        "                       [0.0, 1.0, 0.0],\n",
        "                       [0.0, 0.0, 1.0]])\n",
        "\n",
        "kernel = kernel.view(1, 1, 3, 3)\n",
        "\n",
        "stride = (1, 1)\n",
        "padding = (1, 1)\n",
        "\n",
        "result = torch.nn.functional.conv2d(inputs, kernel, stride=stride, padding=padding)\n",
        "print(\"Shape of result: \", result.shape)\n",
        "\n",
        "\n",
        "# Your code here (make a half smaller)\n",
        "# Make sure your output's shape is half of the input 1x1x2x2\n",
        "\n",
        "stride = (2, 2)\n",
        "padding = (1, 1)\n",
        "\n",
        "result = torch.nn.functional.conv2d(inputs, kernel, stride=stride, padding=padding)\n",
        "print(\"Shape of result: \", result.shape)\n",
        "\n"
      ]
    },
    {
      "cell_type": "markdown",
      "metadata": {
        "id": "X4MxgHrMxvhd"
      },
      "source": [
        "# Using these techniques in a Pytorch model\n",
        "\n",
        "Pytorch provides convolution and [pooling](https://pytorch.org/docs/stable/generated/torch.nn.MaxPool2d.html) layers, which can be used as-is, such as [Conv2D](https://pytorch.org/docs/stable/generated/torch.nn.Conv2d.html).\n",
        "\n",
        "Pay close attention to the input and output shapes, as well as the optional parameters which may come in handy.\n",
        "\n",
        "We will walk through building a CNN classifier using the MNIST dataset.\n",
        "\n",
        "Load the dataset using Pytorch (hint [check the API](https://pytorch.org/vision/main/generated/torchvision.datasets.MNIST.html))"
      ]
    },
    {
      "cell_type": "markdown",
      "metadata": {
        "id": "Z-DoX81DyzZd"
      },
      "source": [
        "### Data normalisation\n",
        "Note that neural networks perform __best when the input data ranges from 0 to 1__, or in some cases -1 to 1. <br>\n",
        "Therefore we need to divide our training and testing dataset by 255 to get values ranging from 0 to 1.\n",
        "\n",
        "In Pytorch, the ToTensor function converts a PIL Image or numpy.ndarray (H x W x C) in the range [0, 255 ] to a torch.FloatTensor of shape (C x H x W) in the range [0.0, 1.0]"
      ]
    },
    {
      "cell_type": "code",
      "execution_count": 6,
      "metadata": {
        "id": "sk-AN_dwyoht"
      },
      "outputs": [
        {
          "name": "stdout",
          "output_type": "stream",
          "text": [
            "Dataset MNIST\n",
            "    Number of datapoints: 60000\n",
            "    Root location: ./data\n",
            "    Split: Train\n",
            "    StandardTransform\n",
            "Transform: Compose(\n",
            "               ToTensor()\n",
            "           )\n",
            "Dataset MNIST\n",
            "    Number of datapoints: 10000\n",
            "    Root location: ./data\n",
            "    Split: Test\n",
            "    StandardTransform\n",
            "Transform: Compose(\n",
            "               ToTensor()\n",
            "           )\n"
          ]
        }
      ],
      "source": [
        "# Define the transform that converts the data to tensors https://pytorch.org/docs/stable/tensors.html\n",
        "# ToTensor converts a PIL Image or numpy.ndarray (H x W x C) in the range [0, 255 ] to a torch.FloatTensor of shape (C x H x W) in the range [0.0, 1.0]\n",
        "transform = transforms.Compose([\n",
        "    transforms.ToTensor(),\n",
        "])\n",
        "\n",
        "train_data = datasets.MNIST(root='./data', train=True, download=True, transform=transform)\n",
        "test_data = datasets.MNIST(root='./data', train=False, download=True, transform=transform)\n",
        "\n",
        "print(train_data)\n",
        "print(test_data)"
      ]
    },
    {
      "cell_type": "markdown",
      "metadata": {
        "id": "4VYVCzZ7yohv"
      },
      "source": [
        "## Visualizing the dataset\n",
        "We will use __matplot library__ to display an image from the MNIST dataset. <br>\n",
        "\n",
        "Since we have __grayscale__ image, we need to specify that, while displaying it via `cmap='gray'`\n",
        "## <font color='red'>Task 1</font>\n",
        "- Please try to visualize more image data, so you can grasp what is in it"
      ]
    },
    {
      "cell_type": "code",
      "execution_count": 7,
      "metadata": {
        "id": "5zStjuHIyohw"
      },
      "outputs": [
        {
          "data": {
            "image/png": "[encoded data removed]",
            "text/plain": [
              "<Figure size 640x480 with 1 Axes>"
            ]
          },
          "metadata": {},
          "output_type": "display_data"
        },
        {
          "name": "stdout",
          "output_type": "stream",
          "text": [
            "The above image is with the label of tensor(5)\n"
          ]
        }
      ],
      "source": [
        "from matplotlib import pyplot as plt\n",
        "\n",
        "# Extract image and label from the training dataset\n",
        "image = train_data.data[0]\n",
        "label = train_data.targets[0]\n",
        "\n",
        "# Visualise the image and print the label\n",
        "# Note that the image has been rescaled to [0, 1] via ToTensor() in the Transform\n",
        "plt.imshow(image, cmap='gray')\n",
        "plt.show()\n",
        "print(\"The above image is with the label of \" + str(label))"
      ]
    },
    {
      "cell_type": "code",
      "execution_count": 8,
      "metadata": {
        "id": "QFMVC3S-oyI7"
      },
      "outputs": [
        {
          "data": {
            "image/png": "[encoded data removed]",
            "text/plain": [
              "<Figure size 640x480 with 1 Axes>"
            ]
          },
          "metadata": {},
          "output_type": "display_data"
        },
        {
          "name": "stdout",
          "output_type": "stream",
          "text": [
            "The above image is with the label of tensor(0)\n"
          ]
        }
      ],
      "source": [
        "# Your code here, try to plot another image, maybe train_data[1] or other image you like\n",
        "image1 = train_data.data[1]\n",
        "label = train_data.targets[1]\n",
        "\n",
        "plt.imshow(image1, cmap=\"grey\")\n",
        "plt.show()\n",
        "print(\"The above image is with the label of \" + str(label))"
      ]
    },
    {
      "cell_type": "code",
      "execution_count": 9,
      "metadata": {
        "id": "Djhb9544ra4b"
      },
      "outputs": [
        {
          "name": "stdout",
          "output_type": "stream",
          "text": [
            "tensor(0)\n",
            "tensor([1, 0, 0, 0, 0, 0, 0, 0, 0, 0])\n"
          ]
        }
      ],
      "source": [
        "# Try to print the raw value from data, to see what is it like\n",
        "print(label)\n",
        "print(nn.functional.one_hot(label, num_classes=10))"
      ]
    },
    {
      "cell_type": "markdown",
      "metadata": {
        "id": "-xkIR7OByohz"
      },
      "source": [
        "## Labels\n",
        "\n",
        "The label for each image is in form of an __integer__ ranging from 0 to 9. <br>\n",
        "We can use a __one hot encoding__ to transform the label into a __binary vector__. We know there are 10\n",
        "classes for this problem, so we can expect the binary vector to have 10 elements.\n",
        "\n",
        "### Converting labels to one-hot representation\n",
        "label <b>before</b> conversion is <b>[5]</b> <br>\n",
        "label <b>after</b> conversion is <b>[0. 0. 0. 0. 0. 1. 0. 0. 0. 0.]</b>"
      ]
    },
    {
      "cell_type": "code",
      "execution_count": 10,
      "metadata": {
        "id": "5YpOp9q-yoh1"
      },
      "outputs": [
        {
          "name": "stdout",
          "output_type": "stream",
          "text": [
            "tensor(0)\n",
            "tensor([1, 0, 0, 0, 0, 0, 0, 0, 0, 0])\n"
          ]
        }
      ],
      "source": [
        "#print the raw value of label\n",
        "print(label)\n",
        "\n",
        "#convert it to a one-hot vector\n",
        "label_one_hot = nn.functional.one_hot(label, num_classes=10)\n",
        "print(label_one_hot)"
      ]
    },
    {
      "cell_type": "markdown",
      "metadata": {
        "id": "Q4F-srsYtRzy"
      },
      "source": [
        "In PyTorch, the crossentropy function can deal with both labels.\n",
        "https://pytorch.org/docs/stable/generated/torch.nn.CrossEntropyLoss.html\n",
        "<br>\n",
        "However, please note that you still need to output a vector with C elements for your network when dealing with a multi-class classfication problem. C is the number of classes."
      ]
    },
    {
      "cell_type": "code",
      "execution_count": 11,
      "metadata": {
        "id": "EOAYBpvUtH0k"
      },
      "outputs": [
        {
          "name": "stdout",
          "output_type": "stream",
          "text": [
            "Actual class loss: tensor(2.4368)\n",
            "One hot vector encoding loss: tensor(2.4368)\n"
          ]
        }
      ],
      "source": [
        "# define the cross entropy loss function\n",
        "crossentropy = nn.CrossEntropyLoss()\n",
        "\n",
        "# given a prediction result of a network\n",
        "prediction = torch.Tensor([0, 0, 0, 0, 0.1, 0.8, 0.1, 0, 0, 0]) # ste the predictions (we\n",
        "                                                                # set highest to one we want -> 5 = 80%)\n",
        "\n",
        "# When the label is the actual class index (5)\n",
        "loss = crossentropy(prediction, label)\n",
        "print(\"Actual class loss:\", loss)\n",
        "\n",
        "# When the label is the one-hot vector\n",
        "loss = crossentropy(prediction, label_one_hot.type(torch.FloatTensor))\n",
        "print(\"One hot vector encoding loss:\", loss)"
      ]
    },
    {
      "cell_type": "markdown",
      "metadata": {
        "id": "ijrxqSVzyoh3"
      },
      "source": [
        "# Building the model\n",
        "In this section we will combine previously demonstrated operations into one network. <br>\n",
        "\n",
        "For this very simple model, we will be using [Conv2d](https://pytorch.org/docs/stable/generated/torch.nn.Conv2d.html), [ReLU](https://pytorch.org/docs/stable/generated/torch.nn.ReLU.html#torch.nn.ReLU) [Flatten](https://pytorch.org/docs/stable/generated/torch.flatten.html), [MaxPool2D](https://pytorch.org/docs/stable/generated/torch.nn.MaxPool2d.html) and  [Fully connected (linear)](https://pytorch.org/docs/stable/generated/torch.nn.Linear.html#torch.nn.Linear) layers.\n",
        "\n"
      ]
    },
    {
      "cell_type": "code",
      "execution_count": 12,
      "metadata": {
        "id": "cIuFd9mTyoh4"
      },
      "outputs": [],
      "source": [
        "class create_model(nn.Module):\n",
        "    def __init__(self):\n",
        "        super(create_model, self).__init__()\n",
        "        # Define the first convolutional layer with 1 input channel, 32 output channels, kernel size 3, and padding 1\n",
        "        self.conv1 = nn.Conv2d(in_channels=1, out_channels=32, kernel_size=3, padding=1)\n",
        "        # ReLU activation\n",
        "        self.relu = nn.ReLU()\n",
        "        # Define the second convolutional layer with 32 input channels, 64 output channels, kernel size 3, and padding 1\n",
        "        self.conv2 = nn.Conv2d(in_channels=32, out_channels=64, kernel_size=3, padding=1)\n",
        "        # Define the max pooling layer with kernel size 2 and stride 2\n",
        "        self.pool = nn.MaxPool2d(kernel_size=2, stride=2)\n",
        "        # Flatten layer\n",
        "        self.flatten = nn.Flatten()\n",
        "        # Define the first fully connected layer with 64*7*7 input features and 128 output features\n",
        "        self.fc1 = nn.Linear(64*7*7, 128)\n",
        "        # Define the second fully connected layer with 128 input features and 10 output features(number of classes)\n",
        "        self.fc2 = nn.Linear(128, 10)\n",
        "\n",
        "    def forward(self, x):\n",
        "        # Pass through first convolutional layer and activation function\n",
        "        x = self.conv1(x)\n",
        "        x = self.relu(x)\n",
        "        x = self.pool(x)\n",
        "        # Pass through second convolutional layer and activation function\n",
        "        x = self.conv2(x)\n",
        "        x = self.relu(x)\n",
        "        x = self.pool(x)\n",
        "        # Flatten the output\n",
        "        x = self.flatten(x)\n",
        "        # Add two FC layers\n",
        "        x = self.fc1(x)\n",
        "        x = self.relu(x)\n",
        "        x = self.fc2(x)\n",
        "        return x\n"
      ]
    },
    {
      "cell_type": "code",
      "execution_count": 13,
      "metadata": {
        "id": "wf0bR7ZCyoh5"
      },
      "outputs": [
        {
          "name": "stderr",
          "output_type": "stream",
          "text": [
            "Epoch-0 on cuda: 100%|██████████| 750/750 [00:09<00:00, 80.07it/s]\n"
          ]
        },
        {
          "name": "stdout",
          "output_type": "stream",
          "text": [
            "Train - Loss: 1.414646, Accuracy: 61.97%\n",
            "Validation - Loss: 0.431635, Accuracy: 86.67%\n",
            "\n"
          ]
        },
        {
          "name": "stderr",
          "output_type": "stream",
          "text": [
            "Epoch-1 on cuda: 100%|██████████| 750/750 [00:08<00:00, 84.00it/s]\n"
          ]
        },
        {
          "name": "stdout",
          "output_type": "stream",
          "text": [
            "Train - Loss: 0.340734, Accuracy: 89.50%\n",
            "Validation - Loss: 0.281808, Accuracy: 91.26%\n",
            "\n"
          ]
        },
        {
          "name": "stderr",
          "output_type": "stream",
          "text": [
            "Epoch-2 on cuda: 100%|██████████| 750/750 [00:09<00:00, 78.60it/s]\n"
          ]
        },
        {
          "name": "stdout",
          "output_type": "stream",
          "text": [
            "Train - Loss: 0.245934, Accuracy: 92.38%\n",
            "Validation - Loss: 0.214175, Accuracy: 93.38%\n",
            "\n"
          ]
        }
      ],
      "source": [
        "# Model/data parameters\n",
        "epochs = 3\n",
        "batch_size = 64\n",
        "num_classes = 10\n",
        "learning_rate = 0.01\n",
        "\n",
        "# Split the training dataset into train and validation sets\n",
        "train_size = int(0.8 * len(train_data))\n",
        "val_size = len(train_data) - train_size\n",
        "train_set, valid_set = torch.utils.data.random_split(train_data, [train_size, val_size])\n",
        "\n",
        "# Data_loader are created to provides an efficient and flexible way to load data into a model\n",
        "# for training or inference.\n",
        "train_loader = torch.utils.data.DataLoader(train_set, batch_size=batch_size, shuffle=True)\n",
        "valid_loader = torch.utils.data.DataLoader(valid_set, batch_size=batch_size, shuffle=False)\n",
        "test_loader = torch.utils.data.DataLoader(test_data, batch_size=batch_size, shuffle=False)\n",
        "\n",
        "#Send model to the GPU device\n",
        "model = create_model().to(device)\n",
        "\n",
        "# Define the loss function and optimizer\n",
        "crossentropy = nn.CrossEntropyLoss()\n",
        "optimizer = optim.SGD(model.parameters(), lr=learning_rate)\n",
        "\n",
        "\n",
        "# Calculate the accuracy given a set of predicted outputs (logits) and the label\n",
        "def accuracy(output, target):\n",
        "    pred = output.argmax(dim=1, keepdim=True)\n",
        "    correct = pred.eq(target.view_as(pred)).sum().item()\n",
        "    return correct / len(target)\n",
        "\n",
        "\n",
        "# For loop over epoches\n",
        "for epoch in range(epochs):\n",
        "    # Switch to train mode\n",
        "    model.train()\n",
        "\n",
        "    # running loss and accuracy\n",
        "    running_loss = 0.0\n",
        "    running_accuracy = 0.0\n",
        "\n",
        "    # For loop over mini batches\n",
        "    for inputs, targets in tqdm(train_loader, desc = \"Epoch-\" + str(epoch) + \" on \" + str(device)):\n",
        "        # Send data to GPU\n",
        "        inputs, targets = inputs.to(device), targets.to(device)\n",
        "\n",
        "        # In pytorch, always set the gradients to zero for each mini batch\n",
        "        optimizer.zero_grad()\n",
        "\n",
        "        # Forward\n",
        "        output = model(inputs)\n",
        "\n",
        "        # Loss\n",
        "        loss = crossentropy(output, targets)\n",
        "\n",
        "        # Backward\n",
        "        loss.backward()\n",
        "\n",
        "        # Model parameters update\n",
        "        optimizer.step()\n",
        "\n",
        "        # Upate running loss and accuracy\n",
        "        running_loss += loss.item()\n",
        "        running_accuracy += accuracy(output, targets)\n",
        "\n",
        "    print('Train - Loss: {:.6f}, Accuracy: {:.2f}%'.format(\n",
        "            running_loss / len(train_loader), running_accuracy / len(train_loader) * 100))\n",
        "    # Validation loop\n",
        "    model.eval()\n",
        "    valid_loss = 0\n",
        "    valid_accuracy = 0\n",
        "    with torch.no_grad():\n",
        "        for data, label in valid_loader:\n",
        "            # Send data to GPU\n",
        "            data, label = data.to(device), label.to(device)\n",
        "            output = model(data)\n",
        "            valid_loss += crossentropy(output, label).item()\n",
        "            valid_accuracy += accuracy(output, label)\n",
        "\n",
        "    print('Validation - Loss: {:.6f}, Accuracy: {:.2f}%\\n'.format(\n",
        "        valid_loss / len(valid_loader), valid_accuracy / len(valid_loader) * 100))\n",
        "\n"
      ]
    },
    {
      "cell_type": "markdown",
      "metadata": {
        "id": "uTJteZVqTQra"
      },
      "source": [
        "The neural network is trained. You can use it to make predictions."
      ]
    },
    {
      "cell_type": "code",
      "execution_count": 14,
      "metadata": {
        "id": "Q6Ug5ymoTQra"
      },
      "outputs": [
        {
          "name": "stdout",
          "output_type": "stream",
          "text": [
            "Total accuracy on the test set: 93.82961783439491\n"
          ]
        }
      ],
      "source": [
        "# Switch model to evaluation mode\n",
        "model.eval()\n",
        "\n",
        "# Perform inference on the test set\n",
        "test_acc = 0.0\n",
        "with torch.no_grad():\n",
        "    for inputs, targets in test_loader:\n",
        "        inputs, targets = inputs.to(device), targets.to(device)\n",
        "        output = model(inputs)\n",
        "        test_acc += accuracy(output, targets)\n",
        "\n",
        "print(\"Total accuracy on the test set:\", test_acc/ len(test_loader) * 100 )"
      ]
    },
    {
      "cell_type": "markdown",
      "metadata": {
        "id": "aXn5Tj5LQ_Ci"
      },
      "source": [
        "## <font color='red'>Task 2</font>\n",
        "\n",
        "Now, try to create a new model by yourself and train the model. <br>\n",
        "Try to get a higher testing accuracy, e.g., 95%."
      ]
    },
    {
      "cell_type": "code",
      "execution_count": 16,
      "metadata": {},
      "outputs": [
        {
          "name": "stdout",
          "output_type": "stream",
          "text": [
            "Dataset MNIST\n",
            "    Number of datapoints: 60000\n",
            "    Root location: ./data\n",
            "    Split: Train\n",
            "    StandardTransform\n",
            "Transform: Compose(\n",
            "               ToTensor()\n",
            "           )\n",
            "Dataset MNIST\n",
            "    Number of datapoints: 10000\n",
            "    Root location: ./data\n",
            "    Split: Test\n",
            "    StandardTransform\n",
            "Transform: Compose(\n",
            "               ToTensor()\n",
            "           )\n"
          ]
        }
      ],
      "source": [
        "# ToTensor converts a PIL Image or numpy.ndarray (H x W x C) in the range [0, 255 ] to a torch.FloatTensor of shape (C x H x W) in the range [0.0, 1.0]\n",
        "transform = transforms.Compose([\n",
        "    transforms.ToTensor(),\n",
        "])\n",
        "\n",
        "train_data = datasets.MNIST(root='./data', train=True, download=True, transform=transform)\n",
        "test_data = datasets.MNIST(root='./data', train=False, download=True, transform=transform)\n",
        "\n",
        "print(train_data)\n",
        "print(test_data)"
      ]
    },
    {
      "cell_type": "code",
      "execution_count": 39,
      "metadata": {
        "id": "A8E-pZMXRKuk"
      },
      "outputs": [],
      "source": [
        "#Create your model\n",
        "class Network(nn.Module):\n",
        "    def __init__(self):\n",
        "        super(Network, self).__init__()\n",
        "\n",
        "        self.conv_layer1 = nn.Conv2d(in_channels=1, out_channels=32, kernel_size=3, padding=1)\n",
        "        # ReLU activation performed\n",
        "        self.relu = nn.ReLU()\n",
        "        \n",
        "        self.conv_layer2 = nn.Conv2d(in_channels=32, out_channels=64, kernel_size=3, padding=1)\n",
        "        self.relu2 = nn.ReLU()\n",
        "\n",
        "        # add another relu for increased non linearity\n",
        "        self.relu3 = nn.ReLU()\n",
        "        # self.conv_layer3 = nn.Conv2d(in_channels=64, out_channels=128, kernel_size=3, padding=1)\n",
        "        \n",
        "        # Pooling layer defined with kernel size 2 and stride of 2 to reduce size and get important parts\n",
        "        self.pool_layer = nn.MaxPool2d(kernel_size=2, stride=2)\n",
        "        # Flatten the layer\n",
        "        self.flatten = nn.Flatten()\n",
        "        # define the first fully connected layer with 64*7*7 and 128 output features\n",
        "        self.fc1 = nn.Linear(64*7*7, 128) # reduce size from 28*28 spatial resolution to 7*7\n",
        "        # Define the second fully connected layer with 128 input features and 10 output features(number of classes)\n",
        "        self.fc2 = nn.Linear(128, 10)\n",
        "\n",
        "\n",
        "    def forward(self, x):\n",
        "        # first pass\n",
        "        x = self.conv_layer1(x)\n",
        "        x = self.relu(x)\n",
        "        x = self.pool_layer(x)\n",
        "        # second pass\n",
        "        x = self.conv_layer2(x)\n",
        "        x = self.relu2(x)\n",
        "        # third pass\n",
        "        # x = self.conv_layer3(x)\n",
        "        x = self.pool_layer(x)\n",
        "        # Flatten the output\n",
        "        x = self.flatten(x)\n",
        "        # Add the 2 FC layers\n",
        "        x = self.fc1(x)\n",
        "        x = self.relu(x)\n",
        "        x = self.fc2(x)\n",
        "        return x\n",
        "\n",
        "\n",
        "#Train the model on MNIST\n",
        "\n",
        "\n",
        "#Test the accuracy of the trained model on the test set\n",
        "\n",
        "\n",
        "\n"
      ]
    },
    {
      "cell_type": "code",
      "execution_count": 44,
      "metadata": {},
      "outputs": [
        {
          "name": "stderr",
          "output_type": "stream",
          "text": [
            "Epoch-0 on cuda:   0%|          | 0/480 [00:00<?, ?it/s]"
          ]
        },
        {
          "name": "stderr",
          "output_type": "stream",
          "text": [
            "Epoch-0 on cuda: 100%|██████████| 480/480 [00:08<00:00, 54.21it/s]\n"
          ]
        },
        {
          "name": "stdout",
          "output_type": "stream",
          "text": [
            "Train - Loss: 0.986200, Accuracy: 73.68%\n",
            "Validation - Loss: 0.324197, Accuracy: 90.37%\n",
            "\n"
          ]
        },
        {
          "name": "stderr",
          "output_type": "stream",
          "text": [
            "Epoch-1 on cuda: 100%|██████████| 480/480 [00:08<00:00, 57.30it/s]\n"
          ]
        },
        {
          "name": "stdout",
          "output_type": "stream",
          "text": [
            "Train - Loss: 0.277772, Accuracy: 91.59%\n",
            "Validation - Loss: 0.201698, Accuracy: 94.01%\n",
            "\n"
          ]
        },
        {
          "name": "stderr",
          "output_type": "stream",
          "text": [
            "Epoch-2 on cuda: 100%|██████████| 480/480 [00:10<00:00, 47.87it/s]\n"
          ]
        },
        {
          "name": "stdout",
          "output_type": "stream",
          "text": [
            "Train - Loss: 0.186230, Accuracy: 94.40%\n",
            "Validation - Loss: 0.146091, Accuracy: 95.78%\n",
            "\n"
          ]
        },
        {
          "name": "stderr",
          "output_type": "stream",
          "text": [
            "Epoch-3 on cuda: 100%|██████████| 480/480 [00:09<00:00, 51.90it/s]\n"
          ]
        },
        {
          "name": "stdout",
          "output_type": "stream",
          "text": [
            "Train - Loss: 0.139159, Accuracy: 95.87%\n",
            "Validation - Loss: 0.117388, Accuracy: 96.46%\n",
            "\n"
          ]
        },
        {
          "name": "stderr",
          "output_type": "stream",
          "text": [
            "Epoch-4 on cuda: 100%|██████████| 480/480 [00:08<00:00, 56.68it/s]\n"
          ]
        },
        {
          "name": "stdout",
          "output_type": "stream",
          "text": [
            "Train - Loss: 0.110786, Accuracy: 96.74%\n",
            "Validation - Loss: 0.096874, Accuracy: 96.96%\n",
            "\n"
          ]
        },
        {
          "name": "stderr",
          "output_type": "stream",
          "text": [
            "Epoch-5 on cuda: 100%|██████████| 480/480 [00:08<00:00, 57.40it/s]\n"
          ]
        },
        {
          "name": "stdout",
          "output_type": "stream",
          "text": [
            "Train - Loss: 0.093991, Accuracy: 97.17%\n",
            "Validation - Loss: 0.078214, Accuracy: 97.50%\n",
            "\n"
          ]
        }
      ],
      "source": [
        "epochs = 6\n",
        "batch_size = 100\n",
        "num_classes = 10\n",
        "learning_rate = 0.02\n",
        "\n",
        "# split the data into training and validation\n",
        "train_size = int(0.8 * len(train_data)) # 80% for training\n",
        "validation_size = len(train_data) - train_size # 20% for validation\n",
        "training_set, validation_set = torch.utils.data.random_split(train_data, [train_size, validation_size])\n",
        "\n",
        "# create DataLoader pipelines\n",
        "train_loader = torch.utils.data.DataLoader(train_set, batch_size=batch_size, shuffle=True)\n",
        "valid_loader = torch.utils.data.DataLoader(validation_set, batch_size=batch_size, shuffle=False)\n",
        "valid_loader = torch.utils.data.DataLoader(test_data, batch_size=batch_size, shuffle=False)\n",
        "\n",
        "# Send the model to the GPU device to run on there\n",
        "model = Network().to(device=device)\n",
        "\n",
        "# Define the loss function and optimizer\n",
        "crossentropyloss = nn.CrossEntropyLoss()\n",
        "optimizer = optim.SGD(model.parameters(), lr=learning_rate)\n",
        "\n",
        "def accuracy(output, target):\n",
        "    prediction = output.argmax(dim=1, keepdim=True)\n",
        "    correct = prediction.eq(target.view_as(prediction)).sum().item()\n",
        "    return correct / len(target)\n",
        "\n",
        "\n",
        "for epoch in range(epochs):\n",
        "    # switch to train model\n",
        "    model.train()\n",
        "\n",
        "    # running loss and accuracy\n",
        "    running_loss = 0.0\n",
        "    running_accuracy = 0.0\n",
        "\n",
        "        # For loop over mini batches\n",
        "    for inputs, targets in tqdm(train_loader, desc = \"Epoch-\" + str(epoch) + \" on \" + str(device)):\n",
        "        # send the data to GPU\n",
        "        inputs, targets = inputs.to(device), targets.to(device)\n",
        "\n",
        "        # set gradients to 0 for each mini batch\n",
        "        optimizer.zero_grad()\n",
        "\n",
        "        # Forward\n",
        "        output = model(inputs)\n",
        "\n",
        "        # Loss\n",
        "        loss = crossentropy(output, targets)\n",
        "\n",
        "        # Backward\n",
        "        loss.backward()\n",
        "\n",
        "        # Model parameters\n",
        "        optimizer.step() # perform single optimization step\n",
        "\n",
        "        running_loss += loss.item()\n",
        "        running_accuracy += accuracy(output, targets)\n",
        "\n",
        "\n",
        "    print('Train - Loss: {:.6f}, Accuracy: {:.2f}%'.format(\n",
        "    running_loss / len(train_loader), running_accuracy / len(train_loader) * 100))\n",
        "\n",
        "\n",
        "        # Validation loop\n",
        "    model.eval()\n",
        "    valid_loss = 0\n",
        "    valid_accuracy = 0\n",
        "    with torch.no_grad():\n",
        "        for data, label in valid_loader:\n",
        "            # Send data to GPU\n",
        "            data, label = data.to(device), label.to(device)\n",
        "            output = model(data)\n",
        "            valid_loss += crossentropy(output, label).item()\n",
        "            valid_accuracy += accuracy(output, label)\n",
        "\n",
        "    print('Validation - Loss: {:.6f}, Accuracy: {:.2f}%\\n'.format(\n",
        "        valid_loss / len(valid_loader), valid_accuracy / len(valid_loader) * 100))\n",
        "\n",
        "\n",
        "\n"
      ]
    },
    {
      "cell_type": "markdown",
      "metadata": {
        "id": "-3bdN9IvBh7S"
      },
      "source": [
        "\n",
        "### End of the notebook\n"
      ]
    },
    {
      "cell_type": "code",
      "execution_count": 38,
      "metadata": {},
      "outputs": [
        {
          "data": {
            "text/plain": [
              "'NVIDIA GeForce GTX 1650'"
            ]
          },
          "execution_count": 38,
          "metadata": {},
          "output_type": "execute_result"
        }
      ],
      "source": [
        "torch.cuda.get_device_name(0)"
      ]
    }
  ],
  "metadata": {
    "accelerator": "GPU",
    "colab": {
      "gpuType": "T4",
      "provenance": []
    },
    "kernelspec": {
      "display_name": "Python 3",
      "language": "python",
      "name": "python3"
    },
    "language_info": {
      "codemirror_mode": {
        "name": "ipython",
        "version": 3
      },
      "file_extension": ".py",
      "mimetype": "text/x-python",
      "name": "python",
      "nbconvert_exporter": "python",
      "pygments_lexer": "ipython3",
      "version": "3.11.6"
    },
    "nteract": {
      "version": "0.21.0"
    }
  },
  "nbformat": 4,
  "nbformat_minor": 0
}
