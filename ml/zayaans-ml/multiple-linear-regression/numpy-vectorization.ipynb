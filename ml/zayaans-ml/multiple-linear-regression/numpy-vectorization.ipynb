{
 "cells": [
  {
   "cell_type": "markdown",
   "metadata": {},
   "source": [
    "## Python and Numpy - Vectorization\n",
    "\n",
    "Numpy is a library that allows for linear algebra functions to take place to perform operations on data"
   ]
  },
  {
   "cell_type": "markdown",
   "metadata": {},
   "source": [
    "<a name=\"toc_40015_3\"></a>\n",
    "# Vectors\n",
    "<a name=\"toc_40015_3.1\"></a>\n",
    "<img align=\"right\" src=\"./images/C1_W2_Lab04_Vectors.PNG\" style=\"width:340px;\" >Vectors are ordered arrays of numbers. The elements of a vector are all the same type and cannot contain e.g. letters and numbers. The number of elements in the array is often referred to as the *DIMENSION/RANK*. The vector shown has a dimension of $n$. The elements of a vector can be referenced with an index. In math settings, indexes typically run from 1 to n. In computer science indexing will typically run from 0 to n-1. \n"
   ]
  },
  {
   "cell_type": "markdown",
   "metadata": {},
   "source": [
    "<a name=\"toc_40015_3.2\"></a>\n",
    "## NumPy Arrays\n",
    "\n",
    "NumPy's basic data structure is an indexable, n-dimensional *array* containing elements of the same type (`dtype`) where dimension/rank refers to number of indexes of an array Above, it was the number of elements in the vector, here, dimension refers to the number of indexes of an array.\n",
    "\n",
    " - 1-D array, shape (n,): n elements indexed [0] through [n-1]\n",
    " "
   ]
  },
  {
   "cell_type": "code",
   "execution_count": 15,
   "metadata": {},
   "outputs": [],
   "source": [
    "import numpy as np \n",
    "import time"
   ]
  },
  {
   "cell_type": "code",
   "execution_count": 16,
   "metadata": {},
   "outputs": [
    {
     "name": "stdout",
     "output_type": "stream",
     "text": [
      "a = [0. 0. 0. 0.] , shape of a = (4,) , data type of a = float64\n",
      "a = [0. 0. 0. 0.] , shape of a = (4,) , data type of a = float64\n",
      "a = [0.44236513 0.04997798 0.77390955 0.93782363] , shape of a = (4,) , data type of a = float64\n",
      "a = [0.5792328  0.53516563 0.80204309 0.24814448] , shape of a = (4,) , data type of a = float64\n"
     ]
    }
   ],
   "source": [
    "a = np.zeros(4)\n",
    "print(f\"a = {a} , shape of a = {np.shape(a)} , data type of a = {a.dtype}\")\n",
    "\n",
    "a = np.zeros(4, );\n",
    "print(f\"a = {a} , shape of a = {np.shape(a)} , data type of a = {a.dtype}\")\n",
    "\n",
    "a = np.random.random_sample(4)\n",
    "print(f\"a = {a} , shape of a = {np.shape(a)} , data type of a = {a.dtype}\")\n",
    "\n",
    "a = np.random.rand(4)\n",
    "print(f\"a = {a} , shape of a = {np.shape(a)} , data type of a = {a.dtype}\")"
   ]
  },
  {
   "cell_type": "markdown",
   "metadata": {},
   "source": [
    "some functions do not actually shape a tuple:"
   ]
  },
  {
   "cell_type": "code",
   "execution_count": 17,
   "metadata": {},
   "outputs": [
    {
     "name": "stdout",
     "output_type": "stream",
     "text": [
      "[4 6 8]\n",
      "[0 1 2 3]\n"
     ]
    }
   ],
   "source": [
    "a = np.arange(4, 10, 2) # start , stop, step\n",
    "print(a)\n",
    "\n",
    "a = np.arange(4,) # up to 4 , increment by 1 (default)\n",
    "print(a)"
   ]
  },
  {
   "cell_type": "markdown",
   "metadata": {},
   "source": [
    "# Operations on Vectors\n",
    "\n",
    "## Indexing:"
   ]
  },
  {
   "cell_type": "code",
   "execution_count": 18,
   "metadata": {},
   "outputs": [
    {
     "name": "stdout",
     "output_type": "stream",
     "text": [
      "[0 1 2 3 4 5 6 7 8 9]\n",
      "()\n",
      "2\n",
      "9\n",
      "The error message you'll see is:\n",
      "index 10 is out of bounds for axis 0 with size 10\n"
     ]
    }
   ],
   "source": [
    "a = np.arange(10)\n",
    "print(a)\n",
    "\n",
    "print(a[2].shape)\n",
    "print(a[2]) # Accessing a element returns a scalar\n",
    "\n",
    "print(a[-1])\n",
    "\n",
    "try :\n",
    "    c = a[10]\n",
    "    print(c)\n",
    "except Exception as e:\n",
    "    print(\"The error message you'll see is:\")\n",
    "    print(e)"
   ]
  },
  {
   "cell_type": "markdown",
   "metadata": {},
   "source": [
    "## Slicing:"
   ]
  },
  {
   "cell_type": "code",
   "execution_count": 19,
   "metadata": {},
   "outputs": [
    {
     "name": "stdout",
     "output_type": "stream",
     "text": [
      "a             [0 1 2 3 4 5 6 7 8 9]\n",
      "a[2:7:1] =    [2 3 4 5 6]\n",
      "a[2:7:1] =    [2 4 6]\n",
      "a[3:] =       [3 4 5 6 7 8 9]\n",
      "a[:3] =       [0 1 2]\n",
      "a[:] =       [0 1 2 3 4 5 6 7 8 9]\n"
     ]
    }
   ],
   "source": [
    "a = np.arange(10)\n",
    "print(f\"a             {a}\")\n",
    "#access 5 consecutive elements (start:stop:step)\n",
    "\n",
    "c = a[2:7:1]\n",
    "print(f\"a[2:7:1] =    {c}\")\n",
    "\n",
    "# access 3 elements separated by two \n",
    "c = a[2:7:2]\n",
    "print(f\"a[2:7:1] =    {c}\")\n",
    "\n",
    "# access all elements index 3 and above\n",
    "c = a[3:]\n",
    "print(f\"a[3:] =       {c}\")\n",
    "\n",
    "# access all elements up to index 3 (inclusive)\n",
    "c = a[:3]\n",
    "print(f\"a[:3] =       {c}\")\n",
    "\n",
    "# access all elements\n",
    "c = a[:]\n",
    "print(f\"a[:] =       {c}\")"
   ]
  },
  {
   "cell_type": "markdown",
   "metadata": {},
   "source": [
    "# Single Vector Operations"
   ]
  },
  {
   "cell_type": "code",
   "execution_count": 20,
   "metadata": {},
   "outputs": [
    {
     "name": "stdout",
     "output_type": "stream",
     "text": [
      "a =             [1 2 3 4]\n",
      "b = -a :        [-1 -2 -3 -4]\n",
      "b = np.sum(a) : 10\n",
      "b = np.mean(a) : 2.5\n",
      "b = a**2       : [ 1  4  9 16]\n"
     ]
    }
   ],
   "source": [
    "a = np.array([1, 2, 3, 4])\n",
    "print(f\"a =             {a}\")\n",
    "\n",
    "# negate elements of a\n",
    "b = -a\n",
    "print(f\"b = -a :        {b}\")\n",
    "\n",
    "# sum all elements of a, returns scalar (single value)\n",
    "b = np.sum(a)\n",
    "print(f\"b = np.sum(a) : {b}\")\n",
    "\n",
    "b = np.mean(a)\n",
    "print(f\"b = np.mean(a) : {b}\")\n",
    "\n",
    "b = a**2\n",
    "print(f\"b = a**2       : {b}\")"
   ]
  },
  {
   "cell_type": "markdown",
   "metadata": {},
   "source": [
    "## Vector with element wise operations\n",
    "-> Most of the NumPy arithmetic, logical and comparison operations apply to vectors as well\n",
    "$$ \\mathbf{a} + \\mathbf{b} = \\sum_{i=0}^{n-1} a_i + b_i $$"
   ]
  },
  {
   "cell_type": "code",
   "execution_count": 21,
   "metadata": {},
   "outputs": [
    {
     "name": "stdout",
     "output_type": "stream",
     "text": [
      "[0 0 6 8]\n",
      "The error message is: operands could not be broadcast together with shapes (4,) (2,) \n"
     ]
    }
   ],
   "source": [
    "a = np.array([1, 2, 3, 4])\n",
    "b = np.array([-1, -2, 3, 4])\n",
    "print(a + b)\n",
    "\n",
    "c = np.array([1, 2])\n",
    "try:\n",
    "    d = a + c # c is incompatible with a and b due to different sizes\n",
    "except Exception as e:\n",
    "    print(\"The error message is:\", e)"
   ]
  },
  {
   "cell_type": "code",
   "execution_count": 22,
   "metadata": {},
   "outputs": [
    {
     "name": "stdout",
     "output_type": "stream",
     "text": [
      "[ 5 10 15 20]\n"
     ]
    }
   ],
   "source": [
    "a = np.array([1, 2, 3, 4])\n",
    "b = 5 * a\n",
    "print(b)"
   ]
  },
  {
   "cell_type": "markdown",
   "metadata": {},
   "source": [
    "## Vector dot product\n",
    "\n",
    "<img src=\"./images/C1_W2_Lab04_dot_notrans.gif\" width=600> "
   ]
  },
  {
   "cell_type": "markdown",
   "metadata": {},
   "source": [
    "## Comparing the performance of our own .dot_product() method vs np.dot()"
   ]
  },
  {
   "cell_type": "code",
   "execution_count": 23,
   "metadata": {},
   "outputs": [],
   "source": [
    "def my_dot(a, b):\n",
    "    result = 0\n",
    "    for i in range(a.shape[0]):\n",
    "        result += a[i] * b[i]\n",
    "    return result"
   ]
  },
  {
   "cell_type": "code",
   "execution_count": 24,
   "metadata": {},
   "outputs": [
    {
     "name": "stdout",
     "output_type": "stream",
     "text": [
      "my_dot([0.59096694 0.32950282 0.98797985 0.86846315 0.16452144], [0.80277814 0.02503441 0.89766393 0.41783454 0.53671084]) : \n",
      " Dot product:  1.8207124743135992\n"
     ]
    }
   ],
   "source": [
    "a = np.random.random_sample(5)\n",
    "b = np.random.random_sample(5)\n",
    "print(f\"my_dot({a}, {b}) : \\n Dot product: \", my_dot(a, b))"
   ]
  },
  {
   "cell_type": "code",
   "execution_count": 25,
   "metadata": {},
   "outputs": [
    {
     "name": "stdout",
     "output_type": "stream",
     "text": [
      "Dot product: 1.004621042645282, np.dot(a, b).shape = ()\n"
     ]
    }
   ],
   "source": [
    "a = np.random.random_sample(5)\n",
    "b = np.random.random_sample(5)\n",
    "c = np.dot(a, b) # scalar\n",
    "\n",
    "print(f\"Dot product: {c}, np.dot(a, b).shape = {c.shape}\")\n",
    "# c is scalar so shape is 0"
   ]
  },
  {
   "cell_type": "code",
   "execution_count": 53,
   "metadata": {},
   "outputs": [
    {
     "name": "stdout",
     "output_type": "stream",
     "text": [
      "np.dot(a, b) =  2501072.5817\n",
      "Vectorized version duration: 6.5253 ms \n",
      "my_dot(a, b) =  2501072.5817\n",
      "loop version duration: 3733.8207 ms \n"
     ]
    }
   ],
   "source": [
    "np.random.seed(1)\n",
    "a = np.random.rand(10000000)  # very large arrays\n",
    "b = np.random.rand(10000000)\n",
    "\n",
    "tic = time.time()  # capture start time\n",
    "c = np.dot(a, b)\n",
    "toc = time.time()  # capture end time\n",
    "\n",
    "print(f\"np.dot(a, b) =  {c:.4f}\")\n",
    "print(f\"Vectorized version duration: {1000*(toc-tic):.4f} ms \")\n",
    "\n",
    "tic = time.time()  # capture start time\n",
    "c = my_dot(a,b)\n",
    "toc = time.time()  # capture end time\n",
    "\n",
    "print(f\"my_dot(a, b) =  {c:.4f}\")\n",
    "print(f\"loop version duration: {1000*(toc-tic):.4f} ms \")\n",
    "\n",
    "del(a)\n",
    "del(b)  #remove these big arrays from memory"
   ]
  },
  {
   "cell_type": "markdown",
   "metadata": {},
   "source": [
    "# MATRICES:"
   ]
  },
  {
   "cell_type": "markdown",
   "metadata": {},
   "source": [
    "Matrices are 2D arrays which store the same type. denoted with bold letter like $\\mathbf{X}$ . m is number of rows and n is number of columns so we need 3D index (CS uses indexing from 0 to n-1)\n",
    "\n",
    "<figure>\n",
    "    <center> <img src=\"./images/C1_W2_Lab04_Matrices.PNG\"  alt='missing'  width=900><center/>\n",
    "    <figcaption> Generic Matrix Notation, 1st index is row, 2nd is column </figcaption>\n",
    "<figure/>"
   ]
  },
  {
   "cell_type": "markdown",
   "metadata": {},
   "source": [
    "## Matrix Creation\n",
    "\n",
    "We can use Numpy to create matrices where is uses brackets to denote each dimension (rank)"
   ]
  },
  {
   "cell_type": "code",
   "execution_count": 54,
   "metadata": {},
   "outputs": [
    {
     "name": "stdout",
     "output_type": "stream",
     "text": [
      "[[0. 0. 0. 0. 0.]\n",
      " [0. 0. 0. 0. 0.]\n",
      " [0. 0. 0. 0. 0.]\n",
      " [0. 0. 0. 0. 0.]\n",
      " [0. 0. 0. 0. 0.]]\n",
      "Dimension: (5, 5)\n",
      "\n",
      "[[0.]\n",
      " [0.]]\n",
      "Dimension: (2, 1)\n",
      "\n",
      "[[0.44236513]]\n",
      "Dimension: (1, 1)\n"
     ]
    }
   ],
   "source": [
    "a = np.zeros((5, 5)) # np.zeros((rowNum, colNum))\n",
    "print(a)\n",
    "print(\"Dimension:\", np.shape(a))\n",
    "\n",
    "print()\n",
    "\n",
    "a = np.zeros((2, 1)) \n",
    "print(a)\n",
    "print(\"Dimension:\", np.shape(a))\n",
    "\n",
    "print()\n",
    "\n",
    "a = np.random.random_sample((1, 1)) # onyl one element (1 row and 1 column)\n",
    "print(a)\n",
    "print(\"Dimension:\", np.shape(a))"
   ]
  },
  {
   "cell_type": "markdown",
   "metadata": {},
   "source": [
    "## Operations on Matrices"
   ]
  },
  {
   "cell_type": "markdown",
   "metadata": {},
   "source": [
    "### Indexing\n",
    "\n",
    "We use 2 indices to describe elements in matrices [row, column]\n",
    "\n",
    "### To turn array into matrix:"
   ]
  },
  {
   "cell_type": "code",
   "execution_count": 68,
   "metadata": {},
   "outputs": [
    {
     "name": "stdout",
     "output_type": "stream",
     "text": [
      "[0 1 2 3 4 5]\n",
      "\n",
      "matrix:\n",
      "  [[0 1]\n",
      " [2 3]\n",
      " [4 5]], \n",
      "shape: (3, 2)\n",
      "2\n",
      "4\n"
     ]
    }
   ],
   "source": [
    "a = np.arange(6)\n",
    "print(a)\n",
    "\n",
    "print()\n",
    "\n",
    "a = np.reshape(a, (-1, 2))\n",
    "# -1 refers to adjusting dimension , 2 refers to number of columns\n",
    "print(f\"matrix:\\n  {a}, \\nshape: {np.shape(a)}\")\n",
    "\n",
    "print(a[1][0]) # element at second row, first column\n",
    "print(a[2, 0]) # element at index 2 , index 0 (3rd row, first column)"
   ]
  },
  {
   "cell_type": "markdown",
   "metadata": {},
   "source": [
    "### Matrix Slicing\n",
    "\n",
    "Slicing creates an array of indices using 3 values (`start:stop:step`)\n",
    "\n"
   ]
  },
  {
   "cell_type": "code",
   "execution_count": 75,
   "metadata": {},
   "outputs": [
    {
     "name": "stdout",
     "output_type": "stream",
     "text": [
      "[[ 0  1  2  3  4  5  6  7  8  9]\n",
      " [10 11 12 13 14 15 16 17 18 19]] \n",
      "\n",
      "[2 3 4 5 6]\n",
      "[12 13 14 15 16]\n"
     ]
    }
   ],
   "source": [
    "a = np.arange(20).reshape(-1, 10) # reshapes array into matrix with 10 columns and as many\n",
    "                                    # rows needed\n",
    "print(a, \"\\n\")\n",
    "# access any 5 consecutive elements in the matrix (start: stop: step)\n",
    "print(a[0, 2:7:1]) # any 5 consecutive elements in the first row\n",
    "print(a[1, 2:7:1]) # any 5 consecutive elements in the second row"
   ]
  },
  {
   "cell_type": "code",
   "execution_count": 81,
   "metadata": {},
   "outputs": [
    {
     "name": "stdout",
     "output_type": "stream",
     "text": [
      "[[ 0  1  2  3  4  5  6  7  8  9]\n",
      " [10 11 12 13 14 15 16 17 18 19]]\n",
      "(2, 10)\n"
     ]
    }
   ],
   "source": [
    "# accessing all elements\n",
    "print(a[:,:])\n",
    "print(a[:,:].shape)"
   ]
  },
  {
   "cell_type": "code",
   "execution_count": null,
   "metadata": {},
   "outputs": [],
   "source": []
  }
 ],
 "metadata": {
  "kernelspec": {
   "display_name": "Python 3",
   "language": "python",
   "name": "python3"
  },
  "language_info": {
   "codemirror_mode": {
    "name": "ipython",
    "version": 3
   },
   "file_extension": ".py",
   "mimetype": "text/x-python",
   "name": "python",
   "nbconvert_exporter": "python",
   "pygments_lexer": "ipython3",
   "version": "3.11.6"
  }
 },
 "nbformat": 4,
 "nbformat_minor": 2
}
