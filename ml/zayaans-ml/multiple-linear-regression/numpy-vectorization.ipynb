{
 "cells": [
  {
   "cell_type": "markdown",
   "metadata": {},
   "source": [
    "## Python and Numpy - Vectorization\n",
    "\n",
    "Numpy is a library that allows for linear algebra functions to take place to perform operations on data"
   ]
  },
  {
   "cell_type": "markdown",
   "metadata": {},
   "source": [
    "<a name=\"toc_40015_3\"></a>\n",
    "# Vectors\n",
    "<a name=\"toc_40015_3.1\"></a>\n",
    "<img align=\"right\" src=\"./images/C1_W2_Lab04_Vectors.PNG\" style=\"width:340px;\" >Vectors are ordered arrays of numbers. The elements of a vector are all the same type and cannot contain e.g. letters and numbers. The number of elements in the array is often referred to as the *DIMENSION/RANK*. The vector shown has a dimension of $n$. The elements of a vector can be referenced with an index. In math settings, indexes typically run from 1 to n. In computer science indexing will typically run from 0 to n-1. \n"
   ]
  },
  {
   "cell_type": "markdown",
   "metadata": {},
   "source": [
    "<a name=\"toc_40015_3.2\"></a>\n",
    "## NumPy Arrays\n",
    "\n",
    "NumPy's basic data structure is an indexable, n-dimensional *array* containing elements of the same type (`dtype`) where dimension/rank refers to number of indexes of an array Above, it was the number of elements in the vector, here, dimension refers to the number of indexes of an array.\n",
    "\n",
    " - 1-D array, shape (n,): n elements indexed [0] through [n-1]\n",
    " "
   ]
  },
  {
   "cell_type": "code",
   "execution_count": 1,
   "metadata": {},
   "outputs": [],
   "source": [
    "import numpy as np "
   ]
  },
  {
   "cell_type": "code",
   "execution_count": 22,
   "metadata": {},
   "outputs": [
    {
     "name": "stdout",
     "output_type": "stream",
     "text": [
      "a = [0. 0. 0. 0.] , shape of a = (4,) , data type of a = float64\n",
      "a = [0. 0. 0. 0.] , shape of a = (4,) , data type of a = float64\n",
      "a = [0.38734211 0.69080907 0.91760618 0.32693792] , shape of a = (4,) , data type of a = float64\n",
      "a = [0.68872246 0.22677998 0.77035445 0.58627003] , shape of a = (4,) , data type of a = float64\n"
     ]
    }
   ],
   "source": [
    "a = np.zeros(4)\n",
    "print(f\"a = {a} , shape of a = {np.shape(a)} , data type of a = {a.dtype}\")\n",
    "\n",
    "a = np.zeros(4, );\n",
    "print(f\"a = {a} , shape of a = {np.shape(a)} , data type of a = {a.dtype}\")\n",
    "\n",
    "a = np.random.random_sample(4)\n",
    "print(f\"a = {a} , shape of a = {np.shape(a)} , data type of a = {a.dtype}\")\n",
    "\n",
    "a = np.random.rand(4)\n",
    "print(f\"a = {a} , shape of a = {np.shape(a)} , data type of a = {a.dtype}\")"
   ]
  },
  {
   "cell_type": "markdown",
   "metadata": {},
   "source": [
    "some functions do not actually shape a tuple:"
   ]
  },
  {
   "cell_type": "code",
   "execution_count": 21,
   "metadata": {},
   "outputs": [
    {
     "name": "stdout",
     "output_type": "stream",
     "text": [
      "[4 6 8]\n",
      "[0 1 2 3]\n"
     ]
    }
   ],
   "source": [
    "a = np.arange(4, 10, 2) # start , stop, step\n",
    "print(a)\n",
    "\n",
    "a = np.arange(4,)\n",
    "print(a)"
   ]
  },
  {
   "cell_type": "markdown",
   "metadata": {},
   "source": [
    "# Operations on Vectors\n",
    "\n",
    "## Indexing:"
   ]
  },
  {
   "cell_type": "code",
   "execution_count": 32,
   "metadata": {},
   "outputs": [
    {
     "name": "stdout",
     "output_type": "stream",
     "text": [
      "[0 1 2 3 4 5 6 7 8 9]\n",
      "()\n",
      "2\n",
      "9\n",
      "The error message you'll see is:\n",
      "index 10 is out of bounds for axis 0 with size 10\n"
     ]
    }
   ],
   "source": [
    "a = np.arange(10)\n",
    "print(a)\n",
    "\n",
    "print(a[2].shape)\n",
    "print(a[2]) # Accessing a element returns a scalar\n",
    "\n",
    "print(a[-1])\n",
    "\n",
    "try :\n",
    "    c = a[10]\n",
    "    print(c)\n",
    "except Exception as e:\n",
    "    print(\"The error message you'll see is:\")\n",
    "    print(e)"
   ]
  },
  {
   "cell_type": "markdown",
   "metadata": {},
   "source": [
    "## Slicing:"
   ]
  },
  {
   "cell_type": "code",
   "execution_count": 44,
   "metadata": {},
   "outputs": [
    {
     "name": "stdout",
     "output_type": "stream",
     "text": [
      "a             [0 1 2 3 4 5 6 7 8 9]\n",
      "a[2:7:1] =    [2 3 4 5 6]\n",
      "a[2:7:1] =    [2 4 6]\n",
      "a[3:] =       [3 4 5 6 7 8 9]\n",
      "a[:3] =       [0 1 2]\n",
      "a[:] =       [0 1 2 3 4 5 6 7 8 9]\n"
     ]
    }
   ],
   "source": [
    "a = np.arange(10)\n",
    "print(f\"a             {a}\")\n",
    "#access 5 consecutive elements (start:stop:step)\n",
    "\n",
    "c = a[2:7:1]\n",
    "print(f\"a[2:7:1] =    {c}\")\n",
    "\n",
    "# access 3 elements separated by two \n",
    "c = a[2:7:2]\n",
    "print(f\"a[2:7:1] =    {c}\")\n",
    "\n",
    "# access all elements index 3 and above\n",
    "c = a[3:]\n",
    "print(f\"a[3:] =       {c}\")\n",
    "\n",
    "# access all elements up to index 3 (inclusive)\n",
    "c = a[:3]\n",
    "print(f\"a[:3] =       {c}\")\n",
    "\n",
    "# access all elements\n",
    "c = a[:]\n",
    "print(f\"a[:] =       {c}\")"
   ]
  },
  {
   "cell_type": "markdown",
   "metadata": {},
   "source": [
    "# Single Vector Operations"
   ]
  },
  {
   "cell_type": "code",
   "execution_count": 53,
   "metadata": {},
   "outputs": [
    {
     "name": "stdout",
     "output_type": "stream",
     "text": [
      "a =             [1 2 3 4]\n",
      "b = -a :        [-1 -2 -3 -4]\n",
      "b = np.sum(a) : 10\n",
      "b = np.mean(a) : 2.5\n",
      "b = a**2       : [ 1  4  9 16]\n"
     ]
    }
   ],
   "source": [
    "a = np.array([1, 2, 3, 4])\n",
    "print(f\"a =             {a}\")\n",
    "\n",
    "# negate elements of a\n",
    "b = -a\n",
    "print(f\"b = -a :        {b}\")\n",
    "\n",
    "# sum all elements of a, returns scalar (single value)\n",
    "b = np.sum(a)\n",
    "print(f\"b = np.sum(a) : {b}\")\n",
    "\n",
    "b = np.mean(a)\n",
    "print(f\"b = np.mean(a) : {b}\")\n",
    "\n",
    "b = a**2\n",
    "print(f\"b = a**2       : {b}\")"
   ]
  },
  {
   "cell_type": "markdown",
   "metadata": {},
   "source": [
    "## Vector with element wise operations\n",
    "-> Most of the NumPy arithmetic, logical and comparison operations apply to vectors as well\n",
    "$$ \\mathbf{a} + \\mathbf{b} = \\sum_{i=0}^{n-1} a_i + b_i $$"
   ]
  },
  {
   "cell_type": "code",
   "execution_count": 59,
   "metadata": {},
   "outputs": [
    {
     "name": "stdout",
     "output_type": "stream",
     "text": [
      "[0 0 6 8]\n",
      "The error message is: operands could not be broadcast together with shapes (4,) (2,) \n"
     ]
    }
   ],
   "source": [
    "a = np.array([1, 2, 3, 4])\n",
    "b = np.array([-1, -2, 3, 4])\n",
    "print(a + b)\n",
    "\n",
    "c = np.array([1, 2])\n",
    "try:\n",
    "    d = a + c # c is incompatible with a and b due to different sizes\n",
    "except Exception as e:\n",
    "    print(\"The error message is:\", e)"
   ]
  },
  {
   "cell_type": "code",
   "execution_count": 60,
   "metadata": {},
   "outputs": [
    {
     "name": "stdout",
     "output_type": "stream",
     "text": [
      "[ 5 10 15 20]\n"
     ]
    }
   ],
   "source": [
    "a = np.array([1, 2, 3, 4])\n",
    "b = 5 * a\n",
    "print(b)"
   ]
  },
  {
   "cell_type": "code",
   "execution_count": null,
   "metadata": {},
   "outputs": [],
   "source": []
  }
 ],
 "metadata": {
  "kernelspec": {
   "display_name": "Python 3",
   "language": "python",
   "name": "python3"
  },
  "language_info": {
   "codemirror_mode": {
    "name": "ipython",
    "version": 3
   },
   "file_extension": ".py",
   "mimetype": "text/x-python",
   "name": "python",
   "nbconvert_exporter": "python",
   "pygments_lexer": "ipython3",
   "version": "3.11.6"
  }
 },
 "nbformat": 4,
 "nbformat_minor": 2
}
