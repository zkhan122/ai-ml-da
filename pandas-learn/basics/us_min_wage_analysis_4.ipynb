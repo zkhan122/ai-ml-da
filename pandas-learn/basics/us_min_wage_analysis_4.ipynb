{
 "cells": [
  {
   "cell_type": "code",
   "execution_count": 20,
   "metadata": {},
   "outputs": [
    {
     "name": "stdout",
     "output_type": "stream",
     "text": [
      "<memory at 0x00000283CC39D100>\n"
     ]
    }
   ],
   "source": [
    "buffer = bytearray(\"XYZ\", \"utf-8\")\n",
    "print(memoryview(buffer))"
   ]
  },
  {
   "cell_type": "code",
   "execution_count": 21,
   "metadata": {},
   "outputs": [
    {
     "data": {
      "text/html": [
       "<div>\n",
       "<style scoped>\n",
       "    .dataframe tbody tr th:only-of-type {\n",
       "        vertical-align: middle;\n",
       "    }\n",
       "\n",
       "    .dataframe tbody tr th {\n",
       "        vertical-align: top;\n",
       "    }\n",
       "\n",
       "    .dataframe thead th {\n",
       "        text-align: right;\n",
       "    }\n",
       "</style>\n",
       "<table border=\"1\" class=\"dataframe\">\n",
       "  <thead>\n",
       "    <tr style=\"text-align: right;\">\n",
       "      <th></th>\n",
       "      <th>Alaska Min Wage</th>\n",
       "      <th>Arkansas Min Wage</th>\n",
       "      <th>California Min Wage</th>\n",
       "      <th>Colorado Min Wage</th>\n",
       "      <th>Connecticut Min Wage</th>\n",
       "      <th>Delaware Min Wage</th>\n",
       "      <th>District of Columbia Min Wage</th>\n",
       "      <th>Guam Min Wage</th>\n",
       "      <th>Hawaii Min Wage</th>\n",
       "      <th>Idaho Min Wage</th>\n",
       "      <th>...</th>\n",
       "      <th>Oregon Min Wage</th>\n",
       "      <th>Pennsylvania Min Wage</th>\n",
       "      <th>Rhode Island Min Wage</th>\n",
       "      <th>South Dakota Min Wage</th>\n",
       "      <th>Utah Min Wage</th>\n",
       "      <th>Vermont Min Wage</th>\n",
       "      <th>Washington Min Wage</th>\n",
       "      <th>West Virginia Min Wage</th>\n",
       "      <th>Wisconsin Min Wage</th>\n",
       "      <th>Wyoming Min Wage</th>\n",
       "    </tr>\n",
       "  </thead>\n",
       "  <tbody>\n",
       "    <tr>\n",
       "      <th>Alaska Min Wage</th>\n",
       "      <td>1.000000</td>\n",
       "      <td>-0.332127</td>\n",
       "      <td>0.622245</td>\n",
       "      <td>-0.078678</td>\n",
       "      <td>0.646909</td>\n",
       "      <td>0.260265</td>\n",
       "      <td>0.271810</td>\n",
       "      <td>0.787515</td>\n",
       "      <td>0.630212</td>\n",
       "      <td>0.371745</td>\n",
       "      <td>...</td>\n",
       "      <td>0.010495</td>\n",
       "      <td>0.590298</td>\n",
       "      <td>0.610099</td>\n",
       "      <td>-0.287259</td>\n",
       "      <td>-0.017546</td>\n",
       "      <td>0.615675</td>\n",
       "      <td>0.378141</td>\n",
       "      <td>0.056924</td>\n",
       "      <td>0.683108</td>\n",
       "      <td>0.726771</td>\n",
       "    </tr>\n",
       "    <tr>\n",
       "      <th>Arkansas Min Wage</th>\n",
       "      <td>-0.332127</td>\n",
       "      <td>1.000000</td>\n",
       "      <td>0.030265</td>\n",
       "      <td>0.333597</td>\n",
       "      <td>0.183662</td>\n",
       "      <td>0.107639</td>\n",
       "      <td>0.433775</td>\n",
       "      <td>0.037006</td>\n",
       "      <td>0.324870</td>\n",
       "      <td>0.008276</td>\n",
       "      <td>...</td>\n",
       "      <td>0.399650</td>\n",
       "      <td>0.065998</td>\n",
       "      <td>0.160773</td>\n",
       "      <td>0.826094</td>\n",
       "      <td>0.208586</td>\n",
       "      <td>0.236875</td>\n",
       "      <td>0.130825</td>\n",
       "      <td>0.504703</td>\n",
       "      <td>-0.069024</td>\n",
       "      <td>-0.235369</td>\n",
       "    </tr>\n",
       "    <tr>\n",
       "      <th>California Min Wage</th>\n",
       "      <td>0.622245</td>\n",
       "      <td>0.030265</td>\n",
       "      <td>1.000000</td>\n",
       "      <td>0.649967</td>\n",
       "      <td>0.881831</td>\n",
       "      <td>0.518481</td>\n",
       "      <td>0.727373</td>\n",
       "      <td>0.411729</td>\n",
       "      <td>0.610784</td>\n",
       "      <td>0.542006</td>\n",
       "      <td>...</td>\n",
       "      <td>0.572160</td>\n",
       "      <td>0.241669</td>\n",
       "      <td>0.816544</td>\n",
       "      <td>0.171242</td>\n",
       "      <td>0.367924</td>\n",
       "      <td>0.894617</td>\n",
       "      <td>0.816087</td>\n",
       "      <td>0.492809</td>\n",
       "      <td>0.382444</td>\n",
       "      <td>0.598739</td>\n",
       "    </tr>\n",
       "    <tr>\n",
       "      <th>Colorado Min Wage</th>\n",
       "      <td>-0.078678</td>\n",
       "      <td>0.333597</td>\n",
       "      <td>0.649967</td>\n",
       "      <td>1.000000</td>\n",
       "      <td>0.520931</td>\n",
       "      <td>0.581162</td>\n",
       "      <td>0.798145</td>\n",
       "      <td>-0.152291</td>\n",
       "      <td>0.291995</td>\n",
       "      <td>0.436981</td>\n",
       "      <td>...</td>\n",
       "      <td>0.733803</td>\n",
       "      <td>-0.229508</td>\n",
       "      <td>0.559646</td>\n",
       "      <td>0.519677</td>\n",
       "      <td>0.538775</td>\n",
       "      <td>0.581318</td>\n",
       "      <td>0.721208</td>\n",
       "      <td>0.623479</td>\n",
       "      <td>-0.101133</td>\n",
       "      <td>0.095454</td>\n",
       "    </tr>\n",
       "    <tr>\n",
       "      <th>Connecticut Min Wage</th>\n",
       "      <td>0.646909</td>\n",
       "      <td>0.183662</td>\n",
       "      <td>0.881831</td>\n",
       "      <td>0.520931</td>\n",
       "      <td>1.000000</td>\n",
       "      <td>0.586472</td>\n",
       "      <td>0.700081</td>\n",
       "      <td>0.587469</td>\n",
       "      <td>0.674581</td>\n",
       "      <td>0.536894</td>\n",
       "      <td>...</td>\n",
       "      <td>0.480491</td>\n",
       "      <td>0.408964</td>\n",
       "      <td>0.829952</td>\n",
       "      <td>0.228521</td>\n",
       "      <td>0.307922</td>\n",
       "      <td>0.911003</td>\n",
       "      <td>0.760697</td>\n",
       "      <td>0.484080</td>\n",
       "      <td>0.468287</td>\n",
       "      <td>0.752009</td>\n",
       "    </tr>\n",
       "  </tbody>\n",
       "</table>\n",
       "<p>5 rows × 37 columns</p>\n",
       "</div>"
      ],
      "text/plain": [
       "                      Alaska Min Wage  Arkansas Min Wage  California Min Wage  \\\n",
       "Alaska Min Wage              1.000000          -0.332127             0.622245   \n",
       "Arkansas Min Wage           -0.332127           1.000000             0.030265   \n",
       "California Min Wage          0.622245           0.030265             1.000000   \n",
       "Colorado Min Wage           -0.078678           0.333597             0.649967   \n",
       "Connecticut Min Wage         0.646909           0.183662             0.881831   \n",
       "\n",
       "                      Colorado Min Wage  Connecticut Min Wage  \\\n",
       "Alaska Min Wage               -0.078678              0.646909   \n",
       "Arkansas Min Wage              0.333597              0.183662   \n",
       "California Min Wage            0.649967              0.881831   \n",
       "Colorado Min Wage              1.000000              0.520931   \n",
       "Connecticut Min Wage           0.520931              1.000000   \n",
       "\n",
       "                      Delaware Min Wage  District of Columbia Min Wage  \\\n",
       "Alaska Min Wage                0.260265                       0.271810   \n",
       "Arkansas Min Wage              0.107639                       0.433775   \n",
       "California Min Wage            0.518481                       0.727373   \n",
       "Colorado Min Wage              0.581162                       0.798145   \n",
       "Connecticut Min Wage           0.586472                       0.700081   \n",
       "\n",
       "                      Guam Min Wage  Hawaii Min Wage  Idaho Min Wage  ...  \\\n",
       "Alaska Min Wage            0.787515         0.630212        0.371745  ...   \n",
       "Arkansas Min Wage          0.037006         0.324870        0.008276  ...   \n",
       "California Min Wage        0.411729         0.610784        0.542006  ...   \n",
       "Colorado Min Wage         -0.152291         0.291995        0.436981  ...   \n",
       "Connecticut Min Wage       0.587469         0.674581        0.536894  ...   \n",
       "\n",
       "                      Oregon Min Wage  Pennsylvania Min Wage  \\\n",
       "Alaska Min Wage              0.010495               0.590298   \n",
       "Arkansas Min Wage            0.399650               0.065998   \n",
       "California Min Wage          0.572160               0.241669   \n",
       "Colorado Min Wage            0.733803              -0.229508   \n",
       "Connecticut Min Wage         0.480491               0.408964   \n",
       "\n",
       "                      Rhode Island Min Wage  South Dakota Min Wage  \\\n",
       "Alaska Min Wage                    0.610099              -0.287259   \n",
       "Arkansas Min Wage                  0.160773               0.826094   \n",
       "California Min Wage                0.816544               0.171242   \n",
       "Colorado Min Wage                  0.559646               0.519677   \n",
       "Connecticut Min Wage               0.829952               0.228521   \n",
       "\n",
       "                      Utah Min Wage  Vermont Min Wage  Washington Min Wage  \\\n",
       "Alaska Min Wage           -0.017546          0.615675             0.378141   \n",
       "Arkansas Min Wage          0.208586          0.236875             0.130825   \n",
       "California Min Wage        0.367924          0.894617             0.816087   \n",
       "Colorado Min Wage          0.538775          0.581318             0.721208   \n",
       "Connecticut Min Wage       0.307922          0.911003             0.760697   \n",
       "\n",
       "                      West Virginia Min Wage  Wisconsin Min Wage  \\\n",
       "Alaska Min Wage                     0.056924            0.683108   \n",
       "Arkansas Min Wage                   0.504703           -0.069024   \n",
       "California Min Wage                 0.492809            0.382444   \n",
       "Colorado Min Wage                   0.623479           -0.101133   \n",
       "Connecticut Min Wage                0.484080            0.468287   \n",
       "\n",
       "                      Wyoming Min Wage  \n",
       "Alaska Min Wage               0.726771  \n",
       "Arkansas Min Wage            -0.235369  \n",
       "California Min Wage           0.598739  \n",
       "Colorado Min Wage             0.095454  \n",
       "Connecticut Min Wage          0.752009  \n",
       "\n",
       "[5 rows x 37 columns]"
      ]
     },
     "execution_count": 21,
     "metadata": {},
     "output_type": "execute_result"
    }
   ],
   "source": [
    "import pandas as pd\n",
    "import numpy as np\n",
    "\n",
    "df = pd.read_csv(\"../datasets/minwage.csv\")\n",
    "\n",
    "actual_min_wage = pd.DataFrame()\n",
    "\n",
    "for name, group in df.groupby(\"State\"):\n",
    "    if actual_min_wage.empty:\n",
    "        actual_min_wage = group.set_index(\"Year\")[ [\"State.Minimum.Wage.2020.Dollars\"] ].rename(\n",
    "            columns={\"State.Minimum.Wage.2020.Dollars\" : str(name) + \" Min Wage\"})\n",
    "    else:\n",
    "        actual_min_wage = actual_min_wage.join(\n",
    "            group.set_index(\"Year\")[ [\"State.Minimum.Wage.2020.Dollars\"]].rename(\n",
    "                columns={\"State.Minimum.Wage.2020.Dollars\" : str(name) + \" Min Wage\"}))\n",
    "\n",
    "actual_min_wage.head()\n",
    "\n",
    "# create a correlation df\n",
    "min_wage_corr = actual_min_wage.replace(0, np.NaN)\n",
    "min_wage_corr = min_wage_corr.dropna(axis=1).corr() # axis = 1 (1 for N/A cols)\n",
    "min_wage_corr.head()\n",
    "        "
   ]
  },
  {
   "cell_type": "code",
   "execution_count": 22,
   "metadata": {},
   "outputs": [
    {
     "data": {
      "text/plain": [
       "<matplotlib.image.AxesImage at 0x283cc664e80>"
      ]
     },
     "execution_count": 22,
     "metadata": {},
     "output_type": "execute_result"
    },
    {
     "data": {
      "image/png": "[encoded data removed]",
      "text/plain": [
       "<Figure size 480x480 with 1 Axes>"
      ]
     },
     "metadata": {},
     "output_type": "display_data"
    }
   ],
   "source": [
    "import matplotlib.pyplot as plt\n",
    "\n",
    "plt.matshow(min_wage_corr)\n",
    "\n",
    "# problem is with the graph below is that it doesnt have labels and instead \n",
    "#   uses numbers (for PMCC in %) to show the rate of correlation"
   ]
  },
  {
   "cell_type": "code",
   "execution_count": 23,
   "metadata": {},
   "outputs": [
    {
     "name": "stderr",
     "output_type": "stream",
     "text": [
      "C:\\Users\\zayaa\\AppData\\Local\\Temp\\ipykernel_4272\\357206400.py:10: UserWarning: FixedFormatter should only be used together with FixedLocator\n",
      "  ax.set_xticklabels(labels)\n",
      "C:\\Users\\zayaa\\AppData\\Local\\Temp\\ipykernel_4272\\357206400.py:11: UserWarning: FixedFormatter should only be used together with FixedLocator\n",
      "  ax.set_yticklabels(labels)\n"
     ]
    },
    {
     "data": {
      "text/plain": [
       "[Text(0, -5.0, 'Al'),\n",
       " Text(0, 0.0, 'Ar'),\n",
       " Text(0, 5.0, 'Ca'),\n",
       " Text(0, 10.0, 'Co'),\n",
       " Text(0, 15.0, 'Co'),\n",
       " Text(0, 20.0, 'De'),\n",
       " Text(0, 25.0, 'Di'),\n",
       " Text(0, 30.0, 'Gu'),\n",
       " Text(0, 35.0, 'Ha'),\n",
       " Text(0, 40.0, 'Id')]"
      ]
     },
     "execution_count": 23,
     "metadata": {},
     "output_type": "execute_result"
    },
    {
     "data": {
      "image/png": "[encoded data removed]",
      "text/plain": [
       "<Figure size 1000x1000 with 1 Axes>"
      ]
     },
     "metadata": {},
     "output_type": "display_data"
    }
   ],
   "source": [
    "# setting the first 2 letters as the ACRONYM for each state \n",
    "labels = [c[:2] for c in min_wage_corr.columns]\n",
    "\n",
    "fig = plt.figure(figsize=(10, 10))\n",
    "# to have ax -> subplot -> figure\n",
    "ax = fig.add_subplot(111) # 1x1 grid and graph\n",
    "\n",
    "ax.matshow(min_wage_corr, cmap=plt.cm.RdYlBu)\n",
    "\n",
    "ax.set_xticklabels(labels)\n",
    "ax.set_yticklabels(labels)\n",
    "\n",
    "\n",
    "# if we set tick labels before showing the plot, we get objects returned as well\n",
    "    # LETS FIX THIS!\n"
   ]
  },
  {
   "cell_type": "code",
   "execution_count": 24,
   "metadata": {},
   "outputs": [
    {
     "data": {
      "image/png": "[encoded data removed]",
      "text/plain": [
       "<Figure size 1000x1000 with 1 Axes>"
      ]
     },
     "metadata": {},
     "output_type": "display_data"
    }
   ],
   "source": [
    "labels = [c[:2] for c in min_wage_corr.columns]\n",
    "fig = plt.figure(figsize=(10, 10))\n",
    "ax = fig.add_subplot(111)\n",
    "\n",
    "# reset the plot\n",
    "ax.matshow(min_wage_corr, cmap=plt.cm.RdYlBu)\n",
    "\n",
    "# setting the labels\n",
    "ax.set_xticks(np.arange(len(labels)))\n",
    "ax.set_yticks(np.arange(len(labels)))\n",
    "ax.set_xticklabels(labels)\n",
    "ax.set_yticklabels(labels)\n",
    "\n",
    "plt.show()\n"
   ]
  },
  {
   "cell_type": "code",
   "execution_count": 25,
   "metadata": {},
   "outputs": [
    {
     "data": {
      "text/plain": [
       "['Al',\n",
       " 'Ar',\n",
       " 'Ca',\n",
       " 'Co',\n",
       " 'Co',\n",
       " 'De',\n",
       " 'Di',\n",
       " 'Gu',\n",
       " 'Ha',\n",
       " 'Id',\n",
       " 'In',\n",
       " 'Ke',\n",
       " 'Ma',\n",
       " 'Ma',\n",
       " 'Ma',\n",
       " 'Mi',\n",
       " 'Mi',\n",
       " 'Ne',\n",
       " 'Ne',\n",
       " 'Ne',\n",
       " 'Ne',\n",
       " 'Ne',\n",
       " 'Ne',\n",
       " 'No',\n",
       " 'No',\n",
       " 'Oh',\n",
       " 'Ok',\n",
       " 'Or',\n",
       " 'Pe',\n",
       " 'Rh',\n",
       " 'So',\n",
       " 'Ut',\n",
       " 'Ve',\n",
       " 'Wa',\n",
       " 'We',\n",
       " 'Wi',\n",
       " 'Wy']"
      ]
     },
     "execution_count": 25,
     "metadata": {},
     "output_type": "execute_result"
    }
   ],
   "source": [
    "labels\n",
    "\n",
    "# we can see we have duplicate labels\n",
    "# so we can either manually fix them or bring them from the internet through *WEBSCRAPING*"
   ]
  },
  {
   "cell_type": "code",
   "execution_count": 26,
   "metadata": {},
   "outputs": [],
   "source": [
    "# in this case we can use the website: \"https://www.infoplease.com/state-abbreviations-and-state-postal-codes\"\n",
    "# as it does not block robots (webscrape bots)\n",
    "\n",
    "import pandas as pd\n",
    "import requests\n",
    "\n",
    "web_request = requests.get(\"https://www.infoplease.com/state-abbreviations-and-state-postal-codes\")\n",
    "\n",
    "scraped_dfs = pd.read_html(web_request.text)\n"
   ]
  },
  {
   "cell_type": "code",
   "execution_count": 27,
   "metadata": {},
   "outputs": [
    {
     "name": "stdout",
     "output_type": "stream",
     "text": [
      "  State Name/District Postal Abbreviation Postal Code\n",
      "0             Alabama                Ala.          AL\n",
      "1              Alaska              Alaska          AK\n",
      "2             Arizona               Ariz.          AZ\n",
      "3            Arkansas                Ark.          AR\n",
      "4          California              Calif.          CA\n",
      "        Territory/Associate Abbreviation Postal Code\n",
      "0            American Samoa          NaN          AS\n",
      "1                      Guam         Guam          GU\n",
      "2          Marshall Islands          NaN          MH\n",
      "3                Micronesia          NaN          FM\n",
      "4  Northern Mariana Islands          NaN          MP\n"
     ]
    }
   ],
   "source": [
    "for df in scraped_dfs:\n",
    "    print(df.head())"
   ]
  },
  {
   "cell_type": "code",
   "execution_count": 28,
   "metadata": {},
   "outputs": [
    {
     "data": {
      "text/html": [
       "<div>\n",
       "<style scoped>\n",
       "    .dataframe tbody tr th:only-of-type {\n",
       "        vertical-align: middle;\n",
       "    }\n",
       "\n",
       "    .dataframe tbody tr th {\n",
       "        vertical-align: top;\n",
       "    }\n",
       "\n",
       "    .dataframe thead th {\n",
       "        text-align: right;\n",
       "    }\n",
       "</style>\n",
       "<table border=\"1\" class=\"dataframe\">\n",
       "  <thead>\n",
       "    <tr style=\"text-align: right;\">\n",
       "      <th></th>\n",
       "      <th>State Name/District</th>\n",
       "      <th>Postal Abbreviation</th>\n",
       "      <th>Postal Code</th>\n",
       "    </tr>\n",
       "  </thead>\n",
       "  <tbody>\n",
       "    <tr>\n",
       "      <th>0</th>\n",
       "      <td>Alabama</td>\n",
       "      <td>Ala.</td>\n",
       "      <td>AL</td>\n",
       "    </tr>\n",
       "    <tr>\n",
       "      <th>1</th>\n",
       "      <td>Alaska</td>\n",
       "      <td>Alaska</td>\n",
       "      <td>AK</td>\n",
       "    </tr>\n",
       "    <tr>\n",
       "      <th>2</th>\n",
       "      <td>Arizona</td>\n",
       "      <td>Ariz.</td>\n",
       "      <td>AZ</td>\n",
       "    </tr>\n",
       "    <tr>\n",
       "      <th>3</th>\n",
       "      <td>Arkansas</td>\n",
       "      <td>Ark.</td>\n",
       "      <td>AR</td>\n",
       "    </tr>\n",
       "    <tr>\n",
       "      <th>4</th>\n",
       "      <td>California</td>\n",
       "      <td>Calif.</td>\n",
       "      <td>CA</td>\n",
       "    </tr>\n",
       "  </tbody>\n",
       "</table>\n",
       "</div>"
      ],
      "text/plain": [
       "  State Name/District Postal Abbreviation Postal Code\n",
       "0             Alabama                Ala.          AL\n",
       "1              Alaska              Alaska          AK\n",
       "2             Arizona               Ariz.          AZ\n",
       "3            Arkansas                Ark.          AR\n",
       "4          California              Calif.          CA"
      ]
     },
     "execution_count": 28,
     "metadata": {},
     "output_type": "execute_result"
    }
   ],
   "source": [
    "state_abbreviations = scraped_dfs[0]\n",
    "state_abbreviations.head()\n",
    "\n",
    "#as shown below for the abbreviations we can use the Postal Code column"
   ]
  },
  {
   "cell_type": "code",
   "execution_count": 29,
   "metadata": {},
   "outputs": [],
   "source": [
    "# lets save the data above as a CSV file so we avoid having to constantly make HTML requests\n",
    "state_abbreviations.to_csv(\"../datasets/state_abbreviations.csv\")"
   ]
  },
  {
   "cell_type": "code",
   "execution_count": 30,
   "metadata": {},
   "outputs": [
    {
     "data": {
      "text/html": [
       "<div>\n",
       "<style scoped>\n",
       "    .dataframe tbody tr th:only-of-type {\n",
       "        vertical-align: middle;\n",
       "    }\n",
       "\n",
       "    .dataframe tbody tr th {\n",
       "        vertical-align: top;\n",
       "    }\n",
       "\n",
       "    .dataframe thead th {\n",
       "        text-align: right;\n",
       "    }\n",
       "</style>\n",
       "<table border=\"1\" class=\"dataframe\">\n",
       "  <thead>\n",
       "    <tr style=\"text-align: right;\">\n",
       "      <th></th>\n",
       "      <th>Unnamed: 0</th>\n",
       "      <th>State Name/District</th>\n",
       "      <th>Postal Abbreviation</th>\n",
       "      <th>Postal Code</th>\n",
       "    </tr>\n",
       "  </thead>\n",
       "  <tbody>\n",
       "    <tr>\n",
       "      <th>0</th>\n",
       "      <td>0</td>\n",
       "      <td>Alabama</td>\n",
       "      <td>Ala.</td>\n",
       "      <td>AL</td>\n",
       "    </tr>\n",
       "    <tr>\n",
       "      <th>1</th>\n",
       "      <td>1</td>\n",
       "      <td>Alaska</td>\n",
       "      <td>Alaska</td>\n",
       "      <td>AK</td>\n",
       "    </tr>\n",
       "    <tr>\n",
       "      <th>2</th>\n",
       "      <td>2</td>\n",
       "      <td>Arizona</td>\n",
       "      <td>Ariz.</td>\n",
       "      <td>AZ</td>\n",
       "    </tr>\n",
       "    <tr>\n",
       "      <th>3</th>\n",
       "      <td>3</td>\n",
       "      <td>Arkansas</td>\n",
       "      <td>Ark.</td>\n",
       "      <td>AR</td>\n",
       "    </tr>\n",
       "    <tr>\n",
       "      <th>4</th>\n",
       "      <td>4</td>\n",
       "      <td>California</td>\n",
       "      <td>Calif.</td>\n",
       "      <td>CA</td>\n",
       "    </tr>\n",
       "  </tbody>\n",
       "</table>\n",
       "</div>"
      ],
      "text/plain": [
       "   Unnamed: 0 State Name/District Postal Abbreviation Postal Code\n",
       "0           0             Alabama                Ala.          AL\n",
       "1           1              Alaska              Alaska          AK\n",
       "2           2             Arizona               Ariz.          AZ\n",
       "3           3            Arkansas                Ark.          AR\n",
       "4           4          California              Calif.          CA"
      ]
     },
     "execution_count": 30,
     "metadata": {},
     "output_type": "execute_result"
    }
   ],
   "source": [
    "state_abbreviations = pd.read_csv(\"../datasets/state_abbreviations.csv\")\n",
    "state_abbreviations.head()\n",
    "# now for some reason we have a new column called \"Unnamed\" because we dont have a good index\n",
    "# WHICH IS A PROBLEM"
   ]
  },
  {
   "cell_type": "code",
   "execution_count": 31,
   "metadata": {},
   "outputs": [
    {
     "name": "stdout",
     "output_type": "stream",
     "text": [
      "                     Postal Code\n",
      "State Name/District             \n",
      "Alabama                       AL\n",
      "Alaska                        AK\n",
      "Arizona                       AZ\n",
      "Arkansas                      AR\n",
      "California                    CA\n",
      "Colorado                      CO\n",
      "Connecticut                   CT\n",
      "Delaware                      DE\n",
      "District of Columbia          DC\n",
      "Florida                       FL\n",
      "Georgia                       GA\n",
      "Hawaii                        HI\n",
      "Idaho                         ID\n",
      "Illinois                      IL\n",
      "Indiana                       IN\n",
      "Iowa                          IA\n",
      "Kansas                        KS\n",
      "Kentucky                      KY\n",
      "Louisiana                     LA\n",
      "Maine                         ME\n",
      "Maryland                      MD\n",
      "Massachusetts                 MA\n",
      "Michigan                      MI\n",
      "Minnesota                     MN\n",
      "Mississippi                   MS\n",
      "Missouri                      MO\n",
      "Montana                       MT\n",
      "Nebraska                      NE\n",
      "Nevada                        NV\n",
      "New Hampshire                 NH\n",
      "New Jersey                    NJ\n",
      "New Mexico                    NM\n",
      "New York                      NY\n",
      "North Carolina                NC\n",
      "North Dakota                  ND\n",
      "Ohio                          OH\n",
      "Oklahoma                      OK\n",
      "Oregon                        OR\n",
      "Pennsylvania                  PA\n",
      "Rhode Island                  RI\n",
      "South Carolina                SC\n",
      "South Dakota                  SD\n",
      "Tennessee                     TN\n",
      "Texas                         TX\n",
      "Utah                          UT\n",
      "Vermont                       VT\n",
      "Virginia                      VA\n",
      "Washington                    WA\n",
      "West Virginia                 WV\n",
      "Wisconsin                     WI\n",
      "Wyoming                       WY\n"
     ]
    }
   ],
   "source": [
    "# To fix this we can fix this 3 WAYS\n",
    "\n",
    "# FIX 1: using the index = False parameter in the to_csv() method\n",
    "fixed_state_abbrev = scraped_dfs[0]\n",
    "fixed_state_abbrev[[\"State Name/District\", \"Postal Code\"]].to_csv(\"../datasets/fixed_state_abbreviations.csv\", index = False)\n",
    "fixed_state_abbrev = pd.read_csv(\"../datasets/fixed_state_abbreviations.csv\", index_col=0)\n",
    "# print(fixed_state_abbrev[[\"Postal Code\"]].to_string(index=False))\n",
    "print(fixed_state_abbrev)"
   ]
  },
  {
   "cell_type": "code",
   "execution_count": 32,
   "metadata": {},
   "outputs": [],
   "source": [
    "# # To fix this we can fix this 3 WAYS\n",
    "\n",
    "# # FIX 2: using the index_cols = 0 (removing newly added indexed cols) parameter in pd.read_csv()\n",
    "# fixed_state_abbrev = scraped_dfs[0]\n",
    "# fixed_state_abbrev.to_csv(\"../datasets/fixed_state_abbreviations.csv\")\n",
    "# fixed_state_abbrev = pd.read_csv(\"../datasets/fixed_state_abbreviations.csv\", index_cols = 0)\n",
    "# fixed_state_abbrev.head()"
   ]
  },
  {
   "cell_type": "code",
   "execution_count": 33,
   "metadata": {},
   "outputs": [],
   "source": [
    "# # To fix this we can fix this 3 WAYS\n",
    "\n",
    "# # FIX 3: using both parameter in to_csv(filepath, index = T/F) and \n",
    "    # pd.read_csv(filepath, index_cols = 0)\n",
    "# fixed_state_abbrev = scraped_dfs[0]\n",
    "# fixed_state_abbrev.to_csv(\"../datasets/fixed_state_abbreviations.csv\", index = False)\n",
    "# fixed_state_abbrev = pd.read_csv(\"../datasets/fixed_state_abbreviations.csv\", index_cols = 0)\n",
    "# fixed_state_abbrev.head()\n",
    "\n",
    "# NOTE: this fix will not print out any index at atll"
   ]
  },
  {
   "cell_type": "code",
   "execution_count": 34,
   "metadata": {},
   "outputs": [
    {
     "data": {
      "text/plain": [
       "{'Postal Code': {'Alabama': 'AL',\n",
       "  'Alaska': 'AK',\n",
       "  'Arizona': 'AZ',\n",
       "  'Arkansas': 'AR',\n",
       "  'California': 'CA',\n",
       "  'Colorado': 'CO',\n",
       "  'Connecticut': 'CT',\n",
       "  'Delaware': 'DE',\n",
       "  'District of Columbia': 'DC',\n",
       "  'Florida': 'FL',\n",
       "  'Georgia': 'GA',\n",
       "  'Hawaii': 'HI',\n",
       "  'Idaho': 'ID',\n",
       "  'Illinois': 'IL',\n",
       "  'Indiana': 'IN',\n",
       "  'Iowa': 'IA',\n",
       "  'Kansas': 'KS',\n",
       "  'Kentucky': 'KY',\n",
       "  'Louisiana': 'LA',\n",
       "  'Maine': 'ME',\n",
       "  'Maryland': 'MD',\n",
       "  'Massachusetts': 'MA',\n",
       "  'Michigan': 'MI',\n",
       "  'Minnesota': 'MN',\n",
       "  'Mississippi': 'MS',\n",
       "  'Missouri': 'MO',\n",
       "  'Montana': 'MT',\n",
       "  'Nebraska': 'NE',\n",
       "  'Nevada': 'NV',\n",
       "  'New Hampshire': 'NH',\n",
       "  'New Jersey': 'NJ',\n",
       "  'New Mexico': 'NM',\n",
       "  'New York': 'NY',\n",
       "  'North Carolina': 'NC',\n",
       "  'North Dakota': 'ND',\n",
       "  'Ohio': 'OH',\n",
       "  'Oklahoma': 'OK',\n",
       "  'Oregon': 'OR',\n",
       "  'Pennsylvania': 'PA',\n",
       "  'Rhode Island': 'RI',\n",
       "  'South Carolina': 'SC',\n",
       "  'South Dakota': 'SD',\n",
       "  'Tennessee': 'TN',\n",
       "  'Texas': 'TX',\n",
       "  'Utah': 'UT',\n",
       "  'Vermont': 'VT',\n",
       "  'Virginia': 'VA',\n",
       "  'Washington': 'WA',\n",
       "  'West Virginia': 'WV',\n",
       "  'Wisconsin': 'WI',\n",
       "  'Wyoming': 'WY'}}"
      ]
     },
     "execution_count": 34,
     "metadata": {},
     "output_type": "execute_result"
    }
   ],
   "source": [
    "abbreviations_dict = fixed_state_abbrev.to_dict()\n",
    "abbreviations_dict"
   ]
  },
  {
   "cell_type": "code",
   "execution_count": 35,
   "metadata": {},
   "outputs": [],
   "source": [
    "# labels =  [abbreviations_dict[pc] for pc in min_wage_corr.columns]\n",
    "# labels2 = fixed_state_abbrev[[\"Postal Code\"]].values\n",
    "# print(str(len(labels)) + \" \" + str(len(labels2)))\n",
    "\n",
    "# print(labels2)\n",
    "          \n",
    " \n",
    "# # gives error as we dont have some abbreviations for some states, so we can do those manually\n",
    "#   # (just a few anyways)"
   ]
  },
  {
   "cell_type": "code",
   "execution_count": 44,
   "metadata": {},
   "outputs": [
    {
     "name": "stdout",
     "output_type": "stream",
     "text": [
      "{'Alabama Min Wage': 'AL', 'Alaska Min Wage': 'AK', 'Arizona Min Wage': 'AZ', 'Arkansas Min Wage': 'AR', 'California Min Wage': 'CA', 'Colorado Min Wage': 'CO', 'Connecticut Min Wage': 'CT', 'Delaware Min Wage': 'DE', 'District of Columbia Min Wage': 'DC', 'Florida Min Wage': 'FL', 'Georgia Min Wage': 'GA', 'Hawaii Min Wage': 'HI', 'Idaho Min Wage': 'ID', 'Illinois Min Wage': 'IL', 'Indiana Min Wage': 'IN', 'Iowa Min Wage': 'IA', 'Kansas Min Wage': 'KS', 'Kentucky Min Wage': 'KY', 'Louisiana Min Wage': 'LA', 'Maine Min Wage': 'ME', 'Maryland Min Wage': 'MD', 'Massachusetts Min Wage': 'MA', 'Michigan Min Wage': 'MI', 'Minnesota Min Wage': 'MN', 'Mississippi Min Wage': 'MS', 'Missouri Min Wage': 'MO', 'Montana Min Wage': 'MT', 'Nebraska Min Wage': 'NE', 'Nevada Min Wage': 'NV', 'New Hampshire Min Wage': 'NH', 'New Jersey Min Wage': 'NJ', 'New Mexico Min Wage': 'NM', 'New York Min Wage': 'NY', 'North Carolina Min Wage': 'NC', 'North Dakota Min Wage': 'ND', 'Ohio Min Wage': 'OH', 'Oklahoma Min Wage': 'OK', 'Oregon Min Wage': 'OR', 'Pennsylvania Min Wage': 'PA', 'Rhode Island Min Wage': 'RI', 'South Carolina Min Wage': 'SC', 'South Dakota Min Wage': 'SD', 'Tennessee Min Wage': 'TN', 'Texas Min Wage': 'TX', 'Utah Min Wage': 'UT', 'Vermont Min Wage': 'VT', 'Virginia Min Wage': 'VA', 'Washington Min Wage': 'WA', 'West Virginia Min Wage': 'WV', 'Wisconsin Min Wage': 'WI', 'Wyoming Min Wage': 'WY'}\n"
     ]
    }
   ],
   "source": [
    "# make a function to access a nested dictionary (meant for fixed_state_abbrev) and assign each state and post code acronym to a new map\n",
    "def mapStateToCode(d, map):\n",
    "    for k, v in d.items():\n",
    "        if isinstance(v, dict):\n",
    "            mapStateToCode(v, map)\n",
    "        else:\n",
    "            state = str(k) + \" Min Wage\"\n",
    "            map[state] = v # (\"{0} : {1}\".format(k, v))\n",
    "    return map\n",
    "\n",
    "map = {}\n",
    "map = mapStateToCode(fixed_state_abbrev.to_dict(), map)\n",
    "print(map)\n",
    "\n",
    "# for k, v in map.items():\n",
    "#     abbreviations_dict[k] = v\n",
    "\n",
    "\n"
   ]
  },
  {
   "cell_type": "code",
   "execution_count": 51,
   "metadata": {},
   "outputs": [
    {
     "data": {
      "image/png": "[encoded data removed]",
      "text/plain": [
       "<Figure size 1200x1200 with 1 Axes>"
      ]
     },
     "metadata": {},
     "output_type": "display_data"
    }
   ],
   "source": [
    "# guam is missing so we reassigning manually\n",
    "map[\"Guam Min Wage\"] = \"GU\"\n",
    "\n",
    "# now we reassing labels to be every value (POST CODE ACRONYM) in map\n",
    "labels = [map[pc] for pc in min_wage_corr.columns]\n",
    "fig = plt.figure(figsize=(12, 12))\n",
    "ax = fig.add_subplot(111)\n",
    "\n",
    "# reset the plot\n",
    "ax.matshow(min_wage_corr, cmap=plt.cm.RdYlBu)\n",
    "\n",
    "# setting the labels\n",
    "ax.set_xticks(np.arange(len(labels)))\n",
    "ax.set_yticks(np.arange(len(labels)))\n",
    "ax.set_xticklabels(labels)\n",
    "ax.set_yticklabels(labels)\n",
    "\n",
    "fig.savefig(\"state_min_wage_correlation.png\")\n",
    "\n",
    "plt.show()\n"
   ]
  },
  {
   "cell_type": "code",
   "execution_count": null,
   "metadata": {},
   "outputs": [],
   "source": []
  },
  {
   "cell_type": "code",
   "execution_count": null,
   "metadata": {},
   "outputs": [],
   "source": []
  }
 ],
 "metadata": {
  "kernelspec": {
   "display_name": "Python 3",
   "language": "python",
   "name": "python3"
  },
  "language_info": {
   "codemirror_mode": {
    "name": "ipython",
    "version": 3
   },
   "file_extension": ".py",
   "mimetype": "text/x-python",
   "name": "python",
   "nbconvert_exporter": "python",
   "pygments_lexer": "ipython3",
   "version": "3.8.10"
  },
  "orig_nbformat": 4
 },
 "nbformat": 4,
 "nbformat_minor": 2
}
